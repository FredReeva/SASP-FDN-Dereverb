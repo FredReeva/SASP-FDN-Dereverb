{
 "metadata": {
  "language_info": {
   "codemirror_mode": {
    "name": "ipython",
    "version": 3
   },
   "file_extension": ".py",
   "mimetype": "text/x-python",
   "name": "python",
   "nbconvert_exporter": "python",
   "pygments_lexer": "ipython3",
   "version": "3.8.5"
  },
  "orig_nbformat": 4,
  "kernelspec": {
   "name": "python3",
   "display_name": "Python 3.8.5 64-bit ('SASP': conda)"
  },
  "interpreter": {
   "hash": "d44181d5496a312659243d14982d4a06b57e90d4f3d181cb7761c6eb419050d1"
  }
 },
 "nbformat": 4,
 "nbformat_minor": 2,
 "cells": [
  {
   "source": [
    "# FDN Reverberator - DAAP Project\n",
    "\n",
    "Students: \n",
    "\n",
    "*   Federico Maver ( ID: 10565151, MATR: 952840 )\n",
    "*   Filippo Gualtieri ( ID: 10557065, MATR: 953546 )"
   ],
   "cell_type": "markdown",
   "metadata": {}
  },
  {
   "cell_type": "code",
   "execution_count": 1,
   "metadata": {},
   "outputs": [],
   "source": [
    "import numpy as np\n",
    "from tqdm import tqdm\n",
    "import matplotlib.pyplot as plt\n",
    "import librosa, librosa.display\n",
    "import scipy as sp\n",
    "import IPython.display as ipd"
   ]
  },
  {
   "source": [
    "ipd.Image(filename = \"images/FDNScheme.png\")"
   ],
   "cell_type": "code",
   "metadata": {},
   "execution_count": 16,
   "outputs": [
    {
     "output_type": "execute_result",
     "data": {
      "image/png": "[encoded data removed]",
      "text/plain": [
       "<IPython.core.display.Image object>"
      ]
     },
     "metadata": {},
     "execution_count": 16
    }
   ]
  },
  {
   "source": [
    "## Params"
   ],
   "cell_type": "markdown",
   "metadata": {}
  },
  {
   "cell_type": "code",
   "execution_count": 54,
   "metadata": {},
   "outputs": [
    {
     "output_type": "stream",
     "name": "stdout",
     "text": [
      "3308\n"
     ]
    }
   ],
   "source": [
    "fs = 22050\n",
    "N = 4\n",
    "g = np.ones(N) # cambia come vuoi\n",
    "t60 = 1 # reverberation time\n",
    "\n",
    "M_min = int(np.ceil(0.15*t60*fs))\n",
    "print(M_min)"
   ]
  },
  {
   "cell_type": "code",
   "execution_count": 61,
   "metadata": {},
   "outputs": [
    {
     "output_type": "stream",
     "name": "stdout",
     "text": [
      "[3481 3721 4096 4489]\n"
     ]
    }
   ],
   "source": [
    "primeN = []\n",
    "for num in range(2,101):\n",
    "    prime = True\n",
    "    for i in range(2,num):\n",
    "        if (num%i==0):\n",
    "            prime = False\n",
    "    if prime:\n",
    "       primeN.append(num)\n",
    "\n",
    "M = []\n",
    "for i in primeN:\n",
    "    m = np.floor(0.5+np.log(M_min)/np.log(i))\n",
    "    if i**m>M_min:\n",
    "        M.append(int(i**m))\n",
    "\n",
    "M = np.sort(M)\n",
    "\n",
    "M = M[:N]\n",
    "\n",
    "print(M)"
   ]
  },
  {
   "source": [
    "## Lossless Feedback Matrix"
   ],
   "cell_type": "markdown",
   "metadata": {}
  },
  {
   "source": [
    "Hadamard Matrix"
   ],
   "cell_type": "markdown",
   "metadata": {}
  },
  {
   "cell_type": "code",
   "execution_count": 21,
   "metadata": {},
   "outputs": [
    {
     "output_type": "stream",
     "name": "stdout",
     "text": [
      "[[ 0.5  0.5  0.5  0.5]\n [ 0.5 -0.5  0.5 -0.5]\n [ 0.5  0.5 -0.5 -0.5]\n [ 0.5 -0.5 -0.5  0.5]]\n"
     ]
    }
   ],
   "source": [
    "if((N & (N-1) == 0) and N != 0):\n",
    "    Had = 1/np.sqrt(N)*sp.linalg.hadamard(N)\n",
    "    print(Had)\n"
   ]
  },
  {
   "source": [
    "Householder Matrix"
   ],
   "cell_type": "markdown",
   "metadata": {}
  },
  {
   "cell_type": "code",
   "execution_count": 11,
   "metadata": {},
   "outputs": [
    {
     "output_type": "stream",
     "name": "stdout",
     "text": [
      "[[ 0.5 -0.5 -0.5 -0.5]\n [-0.5  0.5 -0.5 -0.5]\n [-0.5 -0.5  0.5 -0.5]\n [-0.5 -0.5 -0.5  0.5]]\n"
     ]
    }
   ],
   "source": [
    "u = np.ones(N)\n",
    "Hous = np.identity(N)-2/N*u*u.T\n",
    "print(Hous)"
   ]
  },
  {
   "source": [
    "## Delay IR"
   ],
   "cell_type": "markdown",
   "metadata": {}
  },
  {
   "cell_type": "code",
   "execution_count": 83,
   "metadata": {},
   "outputs": [],
   "source": [
    "u = [1, 0, 0, 0]\n",
    "\n",
    "\n",
    "D = np.zeros((N, M[-1]+len(u)))\n",
    "\n",
    "for i in range(N):\n",
    "    D[i, M[i]-1] = 1\n",
    "\n"
   ]
  }
 ]
}