{
 "cells": [
  {
   "cell_type": "markdown",
   "metadata": {},
   "source": [
    "# FDN Reverberator - DAAP Project\n",
    "\n",
    "Students: \n",
    "\n",
    "*   Federico Maver ( ID: 10565151, MATR: 952840 )\n",
    "*   Filippo Gualtieri ( ID: 10557065, MATR: 953546 )"
   ]
  },
  {
   "cell_type": "code",
   "execution_count": 268,
   "metadata": {},
   "outputs": [],
   "source": [
    "import numpy as np\n",
    "from tqdm import tqdm\n",
    "import matplotlib.pyplot as plt\n",
    "import librosa, librosa.display\n",
    "import scipy as sp\n",
    "import IPython.display as ipd"
   ]
  },
  {
   "cell_type": "code",
   "execution_count": 269,
   "metadata": {},
   "outputs": [
    {
     "data": {
      "image/png": "[encoded data removed]",
      "text/plain": [
       "<IPython.core.display.Image object>"
      ]
     },
     "execution_count": 269,
     "metadata": {},
     "output_type": "execute_result"
    }
   ],
   "source": [
    "ipd.Image(filename = \"images/FDNScheme.png\")"
   ]
  },
  {
   "cell_type": "markdown",
   "metadata": {},
   "source": [
    "## Params"
   ]
  },
  {
   "cell_type": "code",
   "execution_count": 270,
   "metadata": {},
   "outputs": [],
   "source": [
    "# fs = 22050\n",
    "# N = 4\n",
    "# g = np.ones(N) # cambia come vuoi\n",
    "\n",
    "# t60 = 1 # reverberation time\n",
    "# # TODO: reverberation time should be function of frequency! from 0 to fs/2\n",
    "# K = 7\n",
    "# T=127\n",
    "# t60 = np.repeat(1.5, K) #! constant, need to create a graphic 'eq' to select t60\n",
    "# t60 = [1, 0.9, 1, 0.5, 0.4, 0.2, 0.1]\n",
    "# freqs = np.array([0, fs/(2*6), 2*fs/(2*6), 3*fs/(2*6), 4*fs/(2*6), 5*fs/(2*6), fs/2])\n",
    "# print(t60) \n",
    "\n",
    "# # Min delay lenght\n",
    "# # TODO: create slider to select length (starting from min)\n",
    "# M_min = int(np.ceil(0.15*np.max(t60)*fs))\n",
    "# print(M_min)"
   ]
  },
  {
   "cell_type": "code",
   "execution_count": 271,
   "metadata": {},
   "outputs": [],
   "source": [
    "# primeN = []\n",
    "\n",
    "# for num in range(2,101):\n",
    "#     prime = True\n",
    "#     for i in range(2,num):\n",
    "#         if (num%i==0):\n",
    "#             prime = False\n",
    "#     if prime:\n",
    "#        primeN.append(num)\n",
    "\n",
    "# M = []\n",
    "# for i in primeN:\n",
    "#     m = np.floor(0.5+np.log(M_min)/np.log(i))\n",
    "#     if i**m>M_min:\n",
    "#         M.append(int(i**m))\n",
    "\n",
    "# M = np.sort(M)\n",
    "\n",
    "# M = M[:N]\n",
    "\n",
    "# print(M)\n",
    "# # TODO: select numbers according to min desired length"
   ]
  },
  {
   "cell_type": "markdown",
   "metadata": {},
   "source": [
    "## Lossless Feedback Matrix"
   ]
  },
  {
   "cell_type": "markdown",
   "metadata": {},
   "source": [
    "Hadamard Matrix"
   ]
  },
  {
   "cell_type": "code",
   "execution_count": 272,
   "metadata": {},
   "outputs": [],
   "source": [
    "# if((N & (N-1) == 0) and N != 0):\n",
    "#     Had = 1/np.sqrt(N)*sp.linalg.hadamard(N)\n",
    "#     print(Had)\n"
   ]
  },
  {
   "cell_type": "markdown",
   "metadata": {},
   "source": [
    "Householder Matrix"
   ]
  },
  {
   "cell_type": "code",
   "execution_count": 273,
   "metadata": {},
   "outputs": [],
   "source": [
    "# u = np.ones(N)\n",
    "# Hous = np.identity(N)-2/N*u*u.T\n",
    "# print(Hous)"
   ]
  },
  {
   "cell_type": "code",
   "execution_count": 274,
   "metadata": {},
   "outputs": [],
   "source": [
    "# Case 3: Multiband filter design (preferred)\n",
    "def multibandEqualizer(M_i, T, t60, freqs, fs):\n",
    "    #for M_i in M:\n",
    "\n",
    "        G_i = []\n",
    "        # evaluate correct gains (one per band)\n",
    "        for t60_f in t60:\n",
    "            G_i.append(10**((-3*M_i)/(t60_f*fs))) \n",
    "\n",
    "        \n",
    "        #print(G_i)\n",
    "\n",
    "        taps = sp.signal.firwin2(numtaps=T, freq=freqs, gain=G_i, fs=fs)\n",
    "\n",
    "        # w, h = sp.signal.freqz(taps, fs=fs)\n",
    "\n",
    "        #plotFilter(w, h, M_i)\n",
    "\n",
    "        return taps"
   ]
  },
  {
   "cell_type": "code",
   "execution_count": 275,
   "metadata": {
    "scrolled": false
   },
   "outputs": [],
   "source": [
    "# #Circuit\n",
    "# #Parameter initialization\n",
    "# #U = [1, 0, 0, 0]\n",
    "\n",
    "# U=np.append(np.sin(2*np.pi*440*np.arange(0,0.1,1/fs)),np.zeros(15000)) #sp.signal.unit_impulse(22050)\n",
    "# B = [1,1,1,1]\n",
    "# C = [1,1,1,1]\n",
    "# G = [1,1,1,1]\n",
    "# A = Hous\n",
    "# '''                                          1 2 3 4\n",
    "# #Delay lines data structure initialization   _ _ _ _  list of vectors\n",
    "#                                              | | | |\n",
    "#                                              | | | |\n",
    "# '''\n",
    "# delay_lines=[]\n",
    "\n",
    "# for i in range(N):\n",
    "#     delay_lines.append(np.zeros(M[i]))\n",
    "\n",
    "# Output=[]\n",
    "# for u in U: # For every sample of the input\n",
    "#     delay_outputs = [] #Clear the list of delay outputs (N,)\n",
    "#     x = []\n",
    "#     for i in range(N): # For every circuit calculate output of delay lines and shift\n",
    "#         delay_outputs.append(delay_lines[i][-1])\n",
    "#         delay_lines[i][1:M[i]] = delay_lines[i][0:M[i]-1]\n",
    "#         taps = multibandEqualizer(M[i], T, freqs, fs)\n",
    "#         x.append(np.sum(np.multiply(taps, delay_lines[i][-T:])))\n",
    "        \n",
    "\n",
    "#     delay_outputs_array = np.asanyarray(x)\n",
    "#     delay_output_mixed = np.dot(A,delay_outputs_array) # calculate feedback with the selected mixing matrix\n",
    "\n",
    "#     Output.append(np.sum(np.multiply(delay_outputs_array, C)))# Calculate Output to E(z)\n",
    "\n",
    "#     for i in range(N):\n",
    "#         delay_lines[i][0] = B[i]*u + G[i] * delay_output_mixed[i] # insert the calculated input+feedback value into the first position of each delay line\n",
    "\n",
    "# plt.figure()\n",
    "# plt.plot(U)\n",
    "# plt.plot(Output)\n",
    "\n",
    "# print(\"Original\")\n",
    "# ipd.Audio(U, rate=fs)"
   ]
  },
  {
   "cell_type": "code",
   "execution_count": null,
   "metadata": {},
   "outputs": [],
   "source": []
  },
  {
   "cell_type": "code",
   "execution_count": null,
   "metadata": {},
   "outputs": [],
   "source": [
    "\n",
    "\n"
   ]
  },
  {
   "cell_type": "markdown",
   "metadata": {},
   "source": [
    "Once we have delayed the splitted signal, apply a filter (to each delay line). This filter is used to determine the $t_{60}$ of the reverb in each frequency band."
   ]
  },
  {
   "cell_type": "code",
   "execution_count": 276,
   "metadata": {},
   "outputs": [],
   "source": [
    "def plotFilter(w, h, M_i):\n",
    "        fig, ax1 = plt.subplots()\n",
    "        ax1.set_title('Filter applied to delay line with M={}'.format(M_i))\n",
    "        ax1.plot(w, 20 * np.log10(abs(h)), 'b')\n",
    "        ax1.set_ylabel('Amplitude [dB]', color='b')\n",
    "        ax1.set_xlabel('Frequency [rad/sample]')\n",
    "        # ax2 = ax1.twinx()\n",
    "        # angles = np.unwrap(np.angle(h))\n",
    "        # ax2.plot(w, angles, 'g')\n",
    "        # ax2.set_ylabel('Angle (radians)', color='g')\n",
    "        # ax2.grid()\n",
    "        # ax2.axis('tight')\n",
    "        plt.show()"
   ]
  },
  {
   "cell_type": "code",
   "execution_count": 277,
   "metadata": {},
   "outputs": [],
   "source": [
    "# Case 1: Simple 1st order filter\n",
    "\n",
    "def filter1st(x, M, t60, fs):\n",
    "    for M_i in M:\n",
    "        R_M = []\n",
    "        # R_M = 1-(6.91*M_i/t60*fs)\n",
    "        for t60_f in t60:\n",
    "            R_M.append(10**((-3*M_i)/(t60_f*fs))) \n",
    "            \n",
    "        print(R_M)\n",
    "\n",
    "        # pole\n",
    "        p_i = (R_M[0]-R_M[-1])/(R_M[0]+R_M[-1])\n",
    "\n",
    "        # gain\n",
    "        g_i = 2*(R_M[0]*R_M[-1])/(R_M[0]+R_M[-1])\n",
    "\n",
    "        print(g_i, p_i)\n",
    "\n",
    "        b = [0, g_i]\n",
    "        a = [-p_i, 1]\n",
    "\n",
    "        w, h = sp.signal.freqz(b,a, fs=fs)\n",
    "\n",
    "        plotFilter(w, h, M_i)\n"
   ]
  },
  {
   "cell_type": "code",
   "execution_count": 278,
   "metadata": {},
   "outputs": [],
   "source": [
    "# Case 2: Orthogonalized 1st order delay filter\n",
    "def ortFilter1st(x, M, t60, fs):\n",
    "    for M_i in M:\n",
    "\n",
    "        # gain\n",
    "        g_i = 10**((-3*M_i)/(t60[0]*fs))\n",
    "\n",
    "        # pole and zero\n",
    "        p_i = np.log(10)/4 * np.log10(g_i) * (1-(1/(t60[-1]/t60[0])**2))\n",
    "\n",
    "        print(g_i, p_i)\n",
    "\n",
    "        b = [0, g_i*(1-p_i)]\n",
    "        a = [-p_i, 1]\n",
    "\n",
    "        w, h = sp.signal.freqz(b,a, fs=fs)\n",
    "\n",
    "        plotFilter(w, h, M_i)\n"
   ]
  },
  {
   "cell_type": "markdown",
   "metadata": {},
   "source": [
    "Spectral coloration equalizer"
   ]
  },
  {
   "cell_type": "code",
   "execution_count": 279,
   "metadata": {},
   "outputs": [],
   "source": [
    "# coefficient of the filter:\n",
    "def spectralEqualizer(t60, fs):\n",
    "    b_coeff = (1-(t60[-1]/t60[0]))/(1+(t60[-1]/t60[0]))\n",
    "\n",
    "    b = [1, -b_coeff]\n",
    "    a = [1-b_coeff]\n",
    "\n",
    "    return [a, b]\n",
    "\n",
    "    # w, h = sp.signal.freqz(b,a, fs=fs)\n",
    "\n",
    "    # fig, ax1 = plt.subplots()\n",
    "    # ax1.set_title('Spectral Coloration Equalizer')\n",
    "    # ax1.plot(w, 20 * np.log10(abs(h)), 'b')\n",
    "    # ax1.set_ylabel('Amplitude [dB]', color='b')\n",
    "    # ax1.set_xlabel('Frequency [rad/sample]')\n",
    "    # # ax2 = ax1.twinx()\n",
    "    # # angles = np.unwrap(np.angle(h))\n",
    "    # # ax2.plot(w, angles, 'g')\n",
    "    # # ax2.set_ylabel('Angle (radians)', color='g')\n",
    "    # # ax2.grid()\n",
    "    # # ax2.axis('tight')\n",
    "    # plt.show()"
   ]
  },
  {
   "cell_type": "markdown",
   "metadata": {},
   "source": [
    "# Main:"
   ]
  },
  {
   "cell_type": "code",
   "execution_count": 280,
   "metadata": {},
   "outputs": [],
   "source": [
    "# test signal\n",
    "\n",
    "fs = 22050\n",
    "signal = np.append(0.5*np.sin(2*np.pi*440*np.arange(0,0.1,1/fs)),np.zeros(15000)) #sp.signal.unit_impulse(22050)\n",
    "signal = sp.signal.unit_impulse(10000)\n",
    "#signal, _ = librosa.load('audio/voiced_a.wav', sr=fs, mono=True)"
   ]
  },
  {
   "cell_type": "code",
   "execution_count": 281,
   "metadata": {},
   "outputs": [
    {
     "name": "stdout",
     "output_type": "stream",
     "text": [
      "Frequency bands [    0.   1837.5  3675.   5512.5  7350.   9187.5 11025. ] & relative reverberation times [0.5, 0.4, 0.4, 0.4, 0.4, 0.2, 0.1]\n",
      "Selected delay lengths: [1681 1849 2048 2187]\n"
     ]
    }
   ],
   "source": [
    "# parameters\n",
    "\n",
    "\n",
    "N = 4 # number of parallel delay lines\n",
    "\n",
    "# weight coefficients (default to 1)\n",
    "g = np.ones(N)\n",
    "b = np.ones(N)\n",
    "c = np.ones(N)\n",
    "\n",
    "# reverberation time should be function of frequency, from 0 to fs/2\n",
    "T=7 # filter taps\n",
    "t60 = [0.5, 0.4, 0.4, 0.4, 0.4, 0.2, 0.1]\n",
    "freqs = np.array([0, fs/(2*6), 2*fs/(2*6), 3*fs/(2*6), 4*fs/(2*6), 5*fs/(2*6), fs/2])\n",
    "print('Frequency bands {0} & relative reverberation times {1}'.format(freqs, t60)) \n",
    "\n",
    "# Delay lenghts\n",
    "# TODO: create slider to select length (starting from min)\n",
    "M_min = int(np.ceil(0.15*np.max(t60)*fs))\n",
    "\n",
    "primeN = []\n",
    "\n",
    "# generate some prime numbers...\n",
    "for num in range(2,101):\n",
    "    prime = True\n",
    "    for i in range(2,num):\n",
    "        if (num%i==0):\n",
    "            prime = False\n",
    "    if prime:\n",
    "       primeN.append(num)\n",
    "\n",
    "# compute M starting from (different) prime numbers\n",
    "M = []\n",
    "for i in primeN:\n",
    "    m = np.floor(0.5+np.log(M_min)/np.log(i))\n",
    "    if i**m>M_min:\n",
    "        M.append(int(i**m))\n",
    "\n",
    "M = np.sort(M)\n",
    "\n",
    "M = M[:N]\n",
    "\n",
    "print('Selected delay lengths:',M)\n",
    "# TODO: select numbers according to min desired length\n"
   ]
  },
  {
   "cell_type": "code",
   "execution_count": 282,
   "metadata": {},
   "outputs": [],
   "source": [
    "# feedback matrices\n",
    "\n",
    "# hadamard\n",
    "if((N & (N-1) == 0) and N != 0):\n",
    "    Had = 1/np.sqrt(N)*sp.linalg.hadamard(N)\n",
    "\n",
    "#householder\n",
    "u = np.ones(N)\n",
    "Hous = np.identity(N)-2/N*u*u.T"
   ]
  },
  {
   "cell_type": "code",
   "execution_count": 283,
   "metadata": {},
   "outputs": [],
   "source": [
    "sig = np.append(signal, np.zeros(5*np.max(M)))\n",
    "\n",
    "output = np.zeros(sig.size)\n",
    "\n",
    "B = np.ones(N)*0.5\n",
    "C = np.ones(N)*0.5\n",
    "G = np.repeat(0.8,N)\n",
    "d = 1\n",
    "\n",
    "bufferSize = np.max(M) + 128\n",
    "taps = np.zeros((N,T))\n",
    "\n",
    "\n",
    "for i in range(N):\n",
    "    taps[i] = multibandEqualizer(M[i], T, t60, freqs, fs)\n",
    "\n",
    "\n",
    "y = np.zeros(N).T\n",
    "mix = np.zeros(N).T\n",
    "filtered = np.zeros(N).T\n",
    "x = np.zeros(N).T\n",
    "out = np.zeros((N,np.max(M)+sig.size))\n",
    "\n",
    "writeIndex = M\n",
    "readIndex = bufferSize-M\n",
    "filterIndex = readIndex\n",
    "buffer = np.zeros((N, bufferSize))\n",
    "j = 0    \n",
    "\n",
    "for sample in sig:\n",
    "\n",
    "    for i in range(N): # do it for every delay line (in //)\n",
    "\n",
    "        # read the samples from the buffers\n",
    "        y[i] = buffer[i][readIndex[i]]\n",
    "        # extract output\n",
    "        out[i][j] = C[i]*y[i]\n",
    "        \n",
    "        # now mix up signals by applying feedback matrix (Q)\n",
    "        mix[i] = np.sum(y*Had[i])\n",
    "\n",
    "        # filter the signals (g)\n",
    "        filterIndex[i] = readIndex[i] # forse non serve vettore\n",
    "        filtered[i] = mix[i]\n",
    "\n",
    "        for tap in taps[i]:\n",
    "            filtered[i] += buffer[i][filterIndex[i]]*tap\n",
    "            filterIndex[i] = filterIndex[i] -1\n",
    "            if filterIndex[i]<0:\n",
    "                filterIndex[i] = bufferSize-1\n",
    "\n",
    "\n",
    "        # new signal to be processed (input+feedback)\n",
    "        x[i] = B[i]*sample + filtered[i]*G[i]\n",
    "\n",
    "        # update buffer by writing new sample in correct position (delay)\n",
    "        buffer[i][writeIndex[i]] = x[i]\n",
    "\n",
    "        # check if indices of the circular buffer are ok\n",
    "        readIndex[i] = readIndex[i] + 1\n",
    "        if readIndex[i]>=bufferSize:\n",
    "            readIndex[i] = 0\n",
    "\n",
    "        writeIndex[i] = writeIndex[i] + 1\n",
    "        if writeIndex[i]>=bufferSize:\n",
    "            writeIndex[i] = 0\n",
    "    \n",
    "    j = j+1\n",
    "\n"
   ]
  },
  {
   "cell_type": "code",
   "execution_count": null,
   "metadata": {},
   "outputs": [],
   "source": []
  },
  {
   "cell_type": "code",
   "execution_count": 284,
   "metadata": {},
   "outputs": [
    {
     "name": "stdout",
     "output_type": "stream",
     "text": [
      "[0. 0. 0. ... 0. 0. 0.]\n"
     ]
    }
   ],
   "source": [
    "# tone equalization filter\n",
    "\n",
    "a, b = spectralEqualizer(t60, fs)\n",
    "output = sp.signal.lfilter(a, b, np.sum(out, axis= 0))\n",
    "print(np.sum(out[:][:], axis= 0))\n",
    "\n",
    "# final result\n",
    "sig = np.append(signal, np.zeros(output.size-signal.size))\n",
    "output = output + sig*d\n"
   ]
  },
  {
   "cell_type": "code",
   "execution_count": 285,
   "metadata": {},
   "outputs": [
    {
     "data": {
      "text/html": [
       "\n",
       "                <audio  controls=\"controls\" >\n",
       "                    <source src=\"data:audio/wav;base64,UklGRsi0AABXQVZFZm10IBAAAAABAAEAIlYAAESsAAACABAAZGF0YaS0AAD/fwAAAAAAAAAAAAAAAAAAAAAAAAAAAAAAAAAAAAAAAAAAAAAAAAAAAAAAAAAAAAAAAAAAAAAAAAAAAAAAAAAAAAAAAAAAAAAAAAAAAAAAAAAAAAAAAAAAAAAAAAAAAAAAAAAAAAAAAAAAAAAAAAAAAAAAAAAAAAAAAAAAAAAAAAAAAAAAAAAAAAAAAAAAAAAAAAAAAAAAAAAAAAAAAAAAAAAAAAAAAAAAAAAAAAAAAAAAqgocB70EKQMbAmcB7wCfAGoARwAvAB8AFQAOAAkABgAEAAIAAQABAAAAAAAAAAAAAAAAAAAAAAAAAAAAAAAAAAAAAAAAAAAAAAAAAAAAAAAAAAAAAAAAAAAAAAAAAAAAAAAAAAAAAAAAAAAAAAAAAAAAAAAAAAAAAAAAAAAAAAAAAAAAAAAAAAAAAAAAAAAAAAAAAAAAAAAAAAAAAAAAAAAAAAAAAAAAAAAAAAAAAAAAAAAAAAAAAAAAAAAAAAAAAAAAAAAAAAAAAAAAAAAAAAAAAAAAAAAAAAAAAAAAAAAAAAAAAAAAAAAAAAAAAAAAAAAAAAAAAAAAAAAAAAAAAAAAAAAAAAAAAAAAAAAAAAAAAAAAAAAAAAAAAAAAAAAAAAAAAAAAAAAAAAAAAAAAAAAAAAAAAAAAAAAAAAAAAAAAAAAAAAAAAAAAAAAAAAAAAAAAAAAAAAAAAAAAAAAAAAAAAAAAAAAAAAAAAAAAAAAAAAAAAAAAAAAAAAAAAAAAAAAAAAAAAAAAAAAAAAAAAAAAAAAAAAAAAAAAAAAAAAAAAAAAAAAAAAAAAAAAAAAAAAAAAAAAAAAAAAAAAAAAAAAAAAAAAAAAAAAAAAAAAAAAAAAAAAAAAAAAAAAAAAAAAAAAAAAAAAAAAAAAAAAAAAAAAAAAAAAAAAAAAAAAAAAAAAAAAAAAAAAAAAAAAAAAAAAAAAAAAAAAAAAAAAAAAAAAAAAAAAAAAAAAAAAAAAAAAAAAAAAAAAAAAAAAAAAAAAAAAAAAAAAAAAAAAAAAAAAAAAAAAAAAAAAAAAAAAAAAAAAAAAAAAAAAAAAAAAAAAAAAAAAAAAAAAAAAAAAAAAAAAAAAAAAAAAAAAAAAAAAAAAAAAAAAAAAAAAAAAAAAAAAAAAAAAAAAAAAAAAAAAAAAAAAAAAAAAAAAAAAAAAAAAAAAAAAAAAAAAAAAAAAAAAAAAAAAAAAAAAAAAAAAAAAAAAAAAMD7K/0d/r7+Kf9x/6H/wf/W/+T/7v/0//j/+//9//7//////wAAAAAAAAAAAAAAAAAAAAAAAAAAAAAAAAAAAAAAAAAAAAAAAAAAAAAAAAAAAAAAAAAAAAAAAAAAAAAAAAAAAAAAAAAAAAAAAAAAAAAAAAAAAAAAAAAAAAAAAAAAAAAAAAAAAAAAAAAAAAAAAAAAAAAAAAAAAAAAAAAAAAAAAAAAAAAAAAAAAAAAAAAAAAAAAAAAAAAAAAAAAAAAAAAAAAAAAAAAAAAAAF8APwAqABwAEgAMAAgABQADAAIAAQABAAAAAAAAAAAAAAAAAAAAAAAAAAAAAAAAAAAAAAAAAAAAAAAAAAAAAAAAAAAAAAAAAAAAAAAAAAAAAAAAAAAAAAAAAAAAAAAAAAAAAAAAAAAAAAAAAAAAAAAAAAAAAAAAAAAAAAAAAAAAAAAAAAAAAAAAAAAAAAAAAAAAAAAAAAAAAAAAAAAAAAAAAAAAAAAAAAAAAAAAAAAAAAAAAAAAAAAAAAAAAAAAAAAAAAAAAAAAAAAAAAAAAAAAAAAAAAAAAAAAAAAAAAAAAAAAAAAAAAAAAAAAAAAAAAAAAAAAAAAAAAAAAAAAAAAAAAAAAAAAAAAAAAAAAAAAAAAAAAAAAAAAAAAAAAAAAAAAAAAAAAAAAAAAAAAAAAAAAAAAAAAAAAAAAAAAAAAAAAAAAAAAAAAAAAAAAAAAAAAAAAAAAAAAAAAAAAAAAAAAAAAAAAAAAAAAQQHWAI8AXwA/ACoAHAASAAwACAAFAAMAAgABAAEAAAAAAAAAAAAAAAAAAAAAAAAAJgAZABEACwAHAAUAAwACAAEAAAAAAAAAAAAAAAAAAAAAALIBIQHAAIAAVQA5ACYAGQAQAAsABwAFAAMAAgABABAACgAHAAQAg/+t/8n/2//o//D/9f/5//z//f/+////AAAAAAAAAAAAAAAAAAAAAAAAAAAAAAAAAAAAAAAAAAAAAAAAAAAAAAAAAAAAAAAAAAAAAAAAAAAAAAAAAAADAAIAAQDO/9//6v/y//f/+v8KAAcABAADAIIAVwA6ACYAGQARAAsABwAFAAMAAgABAAEAAAAAAAAAAAAAAAAAAAAAAAAAAAAAAAAAAAAAAPn/+//9/wQAAgABAAEAAAAAAAAAAAAAAAAAAAAAAAAAAAAAAAAAAAAAAAAAAAAAAAAAAABEBNgC5QFDAdcAjwBfAD8AKgAcABIADAAIAAUAAwCtCh4HvgQpAxsCZwHvAJ8AagBHAC8AHwAVAA4ACQAGAAQAAgABAAEAAAAAAAAAAAAAAAAAAAAAAAAAAAAAAAAAAAAAAAAAAAAAAAAAAAAAAAAARATYAuUBQwHXAI8AXwA/ACoAHAASAAwACAAFAAMArQoeB74EKQMbAmcB7wCfAGoARwAvAB8AFQAOAAkABgAEAAIAAQABAAAAAAAAAAAAAAAAAAAAAAAAAAAAAAAAAAAAAAAAAAAAAAAAAAAAAAAAAAAAAAAAAAAAAAAAAAAAAAAAAAAAAAAAAAAAAAAAAAAAAAAAAAAAAAAAAAAAAAAAAAAAAAAAAAAAAgABAAEAAAAAADMAIgAXAA8ACgAGAAQAAwACAAEAe/+n/8X/2f/l/+7/9P/4//v/+v/8//3//v///wAAAAAAAAAAAAAAAAAAAAAAAAAAAABEBNgC5QFDAdcAjwBfAD8AKgAcABIADAAOAPb/+f/8//3//v///wAAAAAAAAAAAAAAAAAAAAAAAAAAAAAAAAAAAAAAAAAAAAAAAAAACAAFAAMAAgABAAEAAAAAAAAAAAAAAAAAAAAAAAAAAAAAAAAAAABEBNgC5QFDAdcAjwBfAD8AKgAcABIADAAJAAYABAACAAEAAQAAAAAAAAD//wAAAAAAAAAAAAAAAAAAAAAzACIAFgC8AH0AUwA3ACUAGAAQAAsABwAEAAMAAgABAAAAAAAAAAAAAAAAAAAAAAAAAAAASATaAucBRAHYAJAAXwA/ACoAHAASAAwACAAFAAMAAgABAAEAAAAAAAAAAAACAAEAAQAAAAAAAAAAAAAAAABN/t7+7f/z//j/+//9//7//////wAAAAAAAAAAAAAAAAAAAAAAAAAAAAAAAAAAAAAAAAAAAAAAAAAAAAAAAAAAAAAAAAAAAAAAAAAAAAAAAAAAAAAAAAAAAAAAAAAAAAAAAAAAAABXADoAJgAZABEAWP7m/kT/g/+t/8n/2//o//D/9f/5//z//f/+////AAAAAAAAAAAAAAAAAAAAAAAAAAAAAAAAAAAAAAAAAAAAAAAAAAAAAAAAAAAAAAAAAAAAAAAAAAAAAAAAAAAAAAAAAAAAAAAAAAAAAAAAAAAAAAAAAAAAAAAAAAAAAAAAAAAAAAAAAAAAAAAAAAAAAAAAAAAAAAAAAAAAAAAAAAAAAAAAAAAAAAAAAAAAAAAAAACuAHQATQAzACIAFgACAAEAAQC8/9P/4//t//P/+P/7//3//v/9//7///////3//v9K/tz+Pv9//6r/x//a/+f/7//z//j/+//9/1D/i/+y/8z/3v/p//H/9v/6/0AAKwAcABMADAAIAAUAAwBO/t/+P/+A/6v/x//a/+f/8P/1//n/+v/8//z//f/+/zgAJQA4ACUAGQAQAPf/+v/8//7//////wAAAAAAAAAAAQAcABMADAAIALoBJwHEAIMAVwA6ACYAGQARAPv//f/+//////8AAAAAAAAAAE0AMwAiABYADwAKAAYABAACAAEAAQAAAAAAAAAAAAAAAAAAAAAAAAAAAAsABwAEAAMAAgABAAAAAAAAAAAAAAAAAAAA5P/u//T/+P/7//3//v//////AAAAAAAAAAAAAAAAAAAAACIAFwAPAAoABgAEAAMAAgABAAEAAQD//w4ACQAIAAUABwAWACMAFwAPAAsABwC5ASYBxACBAFYAOQAmABkAEQALAAcABQADAAEAAQAAAEcALwAfABUADgAJAAYArgofB78EKgMcAmwB8gChAGsARwAvAB8AFQAOAE0E3gLpAUYB2QC3AHoATgA0ACIAFwAIAAUAAwACAAEAAQAAAAAAAAAAAAAAAAAAAAAAAAAAAAAAAAAAAAAAAAAAAAAAAAAAAAAAAAAAAAAAAAAAAAAAAAAAAAAAAAAAAAAAAAAAAAAAAAAAAAAAAAAAAAAAAAAAAAAAJgAZABEACwAHAAUAAwDz//j/+//9//7//////wAAAAAAAAAAAAAAAAAAAAAAAAAAAAAAAAAAAAAAAAAAAAAAAAAAAAAPAAoABgAEAAMAAgABAAAAAAAAAAAAAAAAAAAAAAAFAAMAAgABAAEAAAAAAAAA9v/5//z//f8kABgAEAAKAAcABAACAAEAAQAAAAAA/v///wAAAAAAAAAAAAAAAP7/AAAAAAAAAAAAAAAAAAAAAAAAAAAAAAEAAQAAAAAAAAAAAAwACAAFAAMAAgABAAAAAAAAAPz//f/f/6ABDwEGAAQAAgABAAEAAQCxAHYATgB5AFEA5ACZAGYAjwAZAA4ACQAGAAQAAgDM/93/6f/x//r//P/+//////8AACIAFgAPAAoASwTcAugBRQHZAHEASwAyACQACAAFAAMAv/sq/Rz+vv7Y/+v/8//4//v//f/+//////8AAAcAAgACAE3+Ev8VAa4AdABNAHkAQQApABsAEgCNAGkARwAvAB8AFQAaABEACwAHAAUAAwACAAQAAwACAAEAAAAAAAAAAAAAAN//6v/7//3/AABCAHAE9QL5AVABjgEcAb0AfgBOADoAJgAZAN7/8P/1//j/+/9K/tz+Pf97/6j/xf/Z/+b/7//1/9z/6P/y//f/+v/8//z//v//////AAAAAPj/+//9//7//////wAAAAAAAAAAAAAAAAAAAAAAAL/7Kv0c/r7+Kv9y/6H/wf/W/+T/7v/0//7/6v/x//b/+v/8//7//////wAAAgABAAEAAAAAAL37Kf0b/r3+J/9w/6D/wP/X/+X/7v/0//j/+//9//7//////wAAAAAAAAAAAAAAAAAAAAAAAAAAAAAAAAAAAAAAAAAAAAAAAAAAAAAAAAAAAAAGAPD/9v/5//z//f/+////AAAAAAAAAAAAAAAAAAAAAAAAAAAAAAAAAAAAAAAAAAAAAAAAAAAAAAAAAAAAAAAAAAAAAAAAAAD+////sgEhAcAAgABVAEsAMgAdABMAwgE4AdAAigBcAD0ALQAbABMADAAHADgAFwAOAAkABgD///3/Uv+M/57/v//V/+P/7v/v//j/+//9//7///8AAAAAAAAAAAAAAAAAAAAAAAAAAAAAAAD//////P+xASQBwACAAHkAUQA2AC4AJQBeAE0ANAAiABcADwAqAAAA/P8KAAYADAAIAAUAAgAKAPL/AwABAPf/2f/0//j/nwEUAbgAfQBTADcAJAAJAAYAUQA2ACQAGAAQAAoABgAEAAIAAQABAAAAtQElAcMAggBWADkAJgAZABEAFgAPAAsACgBNADQAIwAXAA8A//8AAP7//////7MBFQG4AHsAUgA2ACAAFQBU/5P/y//d/+n/8//4//P/+v/8/xkAIAAVAA4ACQAGAAYA/P/+////DgAJACwAcP+g/xv+vv4p/3H/mv+8/9P/CgAEAPn/+v/9/wIATgA1ACMAFgAAAAYABAABAAEAtv4l/2H/RABjAJX/uP/Q/+D/mQBmAEkATAAyACEAFgAOAAkABgAEAAIAAQABAAAAAAAAAAAAAAAAAAAAtAEjAcIA1P/j/+3/8//4//v//f/+/xkAfABTADgAJgAaABEACwAIAAQA5f/u//T/+P/+/x0AFACO/xICbwH1AKMAbABAACoAHAASAMf/2v/n//D/4f/r//L/9//6//z//v//////AAAAAAAAAAAAAAAAtAEjARMADAAIAAUAAwAGAAQAAgAAAEYALgAfABUABgD2//r//P/+//3//v///wAAAAAAAAAAAAAAAAAAAAAAAAAA+P/7//3//v//////AAAAABQADQAJAAYABAACAAcABAADAAIAAQAAAAAAAAAAALYBJAHCAIMAVwA6ACYAGgARABEACgD8//3/+f/8/wAANgAkABcA9P/+//7//////wEAAwAFAPz/9f/1/6cAbwBIAC8AHwAOAAoAFQAMAAgAgABVADkAJgAZABEA+//9////uv9TADgAJQBfAIUAWQBaABcAEAAQAA8ACgAOALcAggBjADgAJQAZABAACgCuACYBwwCCAFQAPQAoABsAEQALAE0A/P9CACwAYQA/AC0AOQAnABkA9v/6//z/fgBYAEEA2wCRAGEAQAAiABcADgAJAAYAv//V/+P/7f/5/wAAAABDADgAJQAYABAAuQCBAGsARgA1AB0AIQAlABoANgAkABkAZf+Z/8b/FAAdABMABgAfABoA4f90/wEABQAFACAAFQAQAOr/HgAVAAUA9/8hAMUAgwBXADoAJQARAAsABwAGAMD/1v/B/9b/4v///wAAAAALAP3/+//9//7/AAAQAAoABgD+////9P/m/8H/8v9E/4P/9v2j/hf/Zf+n/9T/iAB2AE8ANAA/ACoAGwATAAwABgAEAAIAAAADAPv//P/+//////8AAAAA+P/7//3//v//////AAABAAEAAACF/Vn+6P5F/4H/q//E/9f/7f/z//j/EgASAPr//P8xAEAAev+n/wsAAQABAAAAAAAFAPX/EwANAKoAcQBMADIAIQDFAIQAWAA/ACkEyALaATwB0gCMAF0APgApABsAEgAMAAgABQD9//7///8AAAAAAAAAAAEAAQAGAAQAAgABAAEAAAAAAM3/3v/q//H/9v/4/+z/8//3//r//P/+//////8LAAcABwBX/0MB1wCPAF8Akv+2/8//2v8sANj/4//r//L/9//6//z/AAAAAAAAAAAAALv/0v/h/+r/8P/1//j/+/9TAIr/o/8V/2P/nf+//9b/MAD5/xMABwBLADAAHwAVAMj/6P/V/+H/5P/t/9D/4P8GAAcABgBnApoBDAHFAH0AVAA4ACUASv7e/jn/l/+1/87/kgELAbIAfABSADEAIQANAP3/AgBi/5f/AABBAIQAHAFdAoMBAAEBAasAdQA9ACkABAA8ACEAGwBy/6b/pf/C/87/3v/p//D/9/8AAGQARAAyACwAGwDMAIcAdQD9AGgARQArAAEAHAAfABkABQAFAAMAAgARAAsACAC8/9b/GwAnAHD/of+7/8//4f/s//7/QABwAEoAMQAVAA8AAwAWAA0A/P+wAWQAtAEQAcwAiADy/wEAGAATAA4ADwAIAbIAmQDMAIgABQGrAFwAPwDf/+r/8f/2/xEADQAOAFf+6v5H/4b/r//K/9//2v/Z/6cBHgEIBVsDPQJ9AfoAqQB4AFEAQAB1AFsASAA5ACoAHgASAAoAw//c/zoAJwD//wYANwA2AAsACQAPAAYABAACAPz/+/+y/8//3v9M/4j/sP/L/93/6f/x//b/vwErAccAhQAHAQEAAAALAA8ACwAVAMv/3f/G/x4AGAAcAA0ATwA0AEMAQQC8AHwAXwAdABYAFAAOAKT/x//b/+r/8v/3/8AAiQBfAD8ALAAcABUADgARAAsAxP/i/+7/owBsAJ8AagBHAEYALgAZABIADAAIACEDFgJkAeQAmABlADgAJQAZABAACwAHAAUABQADAAMAAAANAAwACAAFAAgABQAHAAUAAwACAPv//f/+/xkAEAApABwAEgAMAAgABQADAAIAAQAAAAAADwAKAAYABAABAAQABQADAPf/8P92ACwAHQAIAAcABQD4/xUACwAHAFIAMwAeABAACwD6AKgAyP/c/9j/7//1//z/UgBE/4H/8f/4/9f//v8DAAEA8v8AAEgALgAdAA8ACgAGABIA+P/m/yoAGwD3//v/3P/s/9//6v/y/77/2v/i/zEAIADZ/5v/xP/g/+z/9v/6//z/AADh/xMAAACS/Wf+7v5L/1f/j/+0/woAHgAhACQACwAAAAQAAwANAAQAAwD+/10ANQAnAAEAEAALACMAFwANAAMAAwDP/4YAWwAuADAAHgAaABgAEAAMABv/jf/C/7n/0v8lAXMBEwG9AIIAcwBHAJEAZwADACAADwAHABUAIAAWAE0AhP+s/2P/kP+t/87/rv+W//T/OgC2/9r/+v/9/+7/+/8NAB0AFAAeABgAJgAhAB0AMQBrAEYAPAAaABEADAALAP7/6v/x//f/+f+E/2EBFwHNAJwAVAA2AAAA6f+b/3f/ov/e/wQAAgBMAKT/wv/f/2r/BP+B/6v/IgAIAAYACAAcABUAAQD//+QAmwCz/4P/w//R/+P/6v/u/77/2P/i/xgAyv/c/+b/7//z//kApgBnADAALQC9/9T/4//YAHgAcwAxABsAMgCEAFsAPgDEAMcARACCAFAAj/4H/1//mv+8/5L/HwD2//z/9/9L/4n/sf/G/zL/hf/K/9v/5f96AEIALAAeALwAfAA9ACgAHAAVAA4ACQAIAHf/ov/R/+H/7P+u+x/9Ff65/tT/6v/w//3/8v/5//T/+P/+//////9FADMALgBLADMALQAjABcAEwAZABUARgAvACMAFwAPAD0AKAAAAAAAAAABAAUABAADAO7/9P8MAPn/8//4//v/AAAAAAoAKgAdADUAJQApABUABwACAAoAwf/X/wcA9f/lAJYAsf4g/6v/1f8KAOT/0f/U/5YBCQGkAFQAEQAQAAsA4P/1//P/9f/m/+3/AwAAAPn/FgEMABwACAAVABUABwAFACwA+v/3//r/+//9////CgAGAOv/pABrAE0ASgAxACQAIgASAC4AWAAWAAMAAAADACgAIAACAPj/jv+4/9v/9f/7/24BdgHUAC8ByQCKAFQASwApAKgAYQBCAOL/9/+CABsAEwAQAPv/gABXAEgA4P/H/9v/7f/w/wwA7f/6/+z/DQD8/97/7P/0//T//f2p/i7/jP/8/wsAEgA6ABgAEQBgAFMAYABJAC8A4P/0/wIAAgDCASYByQCJAGcA9P/4/zP/5f/s/wsAJwDg/zAAHAD7//T/EAC+/9D/1v/w/8r/nf+0/8//4/+6/9v/6P+q/8n/2/8HAPb/9f/3/1b+W/+K/yEAPgBXAFIApABfAPr//f/5/+v/2//i/6z/OP4Y/8j+Wf+1/4T/2//q/+7/9f/3/4UAEADs/8P/vf/q/+P/0//S/9z/4v/t/+D/+v8AAKL/lv+8/+j/JABv//T+Tv+l/8T/LP9z/5n/xv9DAO4AjwC9AHoA0ADtAvsBUgHfAEgAJQAFAEIA5QB7APQBgwFGAdkAAAEwACAAJwA8ACEA5f8TAPD/PgA5ABYAEAAxAEcAWwA9ACoAMgAsABIACgAHACgAGwDGATcBxACEAFgANAA/ACsAIAAhABYA9f/5/1wASgA0AAIA6/5D/4P/rv/K//H/Q/7R/jP/1v4n/27/v//W/yL/a/+d/8H/0//l/+//6P/x//P/Tf+J/6z/HP91/yj/b/+f/8H/GwAUAA8ABgAgAB4BuQCBAJgAaABKACwANgAHAPD/GgAJAP3/BAAJAAAAsgEqAcYAeQBSAD0APAAiAA0A1AFEATMAHQD4//D/2f/l//b/IAASAB8A4wE/AdYAWwCMADEAJgAeALAAiwBhADkAJAAKAPb/+f/g//b/8P/3/9T/3v8AAAIAvP/K/+v/7v/n/ykANgAkAPH/HADCARQBqAB5AEYA4f/5/1D/o/+2/6YBMwG/AJQAqQBEAeoAswBwAFcAQgAnAAQAxv/l/+r/zf9y/wb/V/+R/7f/9//E/93/1/+V/7v/6f9BADEAZwCrAG8AIABt/5X/+f/U/8z/3f/y/08AXAB8ALz/oQHPAJAAYwBHAPT/JgApABkA9v9HADsAHQAjAAcADACnADwAKgBFAFQANADj//v/OgBEADAA+P8QAFEANQAoAOb/1f/2/wAA5f/VAJMAYQB3AFEACAAIAPr/Sv+J/6n/z//v/xkAHgDp/6/+gf/A/2IA0v8AAI7/nf/O/zkAl/+p/wAACwDp/2MAPwB5AHUAGAHVAKUAmP+2/5j/BgABABkAOABh/zv/hf8HAA4AHAB5AEkAdQBfADoAw/8YABEAFwAQAAkAY/+t/8z///8EAAEA9v8UABAAdwCF/7D/BQB0AEoANgA2AB0APgARAA0AEACRACMACAAHAGP/lv87/3v/zv83/3v/a/+c/83/AwC8AJkAZwD3ADUAGAD2/6IAlAAzAN//pQBuAEkAdQAIAAUAEAA+AEAAKgAZABIACQAOAPz/+f/5/wEASgAxAGcAQwDlAJUAHQHNAKoAhwBOADcANAAMAOb/FwCFAFMAUgBEADIAAADz//b//P/p//3//v/aAHAA9wDw/+v/8f8GACMAGwASABQAEQAIAPv/q//m//n/BQAAAEYAIwASAFIAOgDy//f/8v/4/7YAHwBKAFr/j/8N/0T/f/+x/4n/rP/F//b/NAA9AAcAEADt//P//v8cAFwAPAD9//j/EgACAPj/9/9bAFAAZwA8AOr/wv/S/3f/yv8gABMAGgA4ADUAsv8bAA4AAAAmAAIA9/+oAFQAMgAmAIYAgAAEAYsAbgDw/6YAuv8n/yn/U/8m/4z/BAC6/1MATwAxACoAJgAV/1f/sP///xEAFQDo/+f//v/z/wYAzv/f/zb/uv/Y/6n/1f9uADQANQCFAGQAQQAcAYIAbgBBACYAuQBpAE8AEQAZAAwANgAnACIAKgAeAAAAxP/8/zD/VP+Z/4n/sf/g/3T/lv9PAKr/mv+1/+P/2P/X/6P/vP/S/ywA5P/U/8j/AgDy/+T/6f8jABMA4v/m/lT/jf+Q/+7/KwA8AIAAagGKAHEAVgCkAO4AvgCYAF0A7f/+/2EAOwA4AOL/AgAMAIb/iAAIAbYAfAASADMACwDh/63/vP/m/wAA4wBpADsAHQDz/yUAAgABAPz/7v/n/+n/8//p/7L/5v/1/03/hv/s/mP/rP+I/6H/u/8AAPz/PP7Z/ir/gf+3/8P/tf/e/wAAAgBKAJcAcQB4ACsAGwDG/7v/FwAMABMA/v////P/WQB/AGEAPQAzAI0A8P/2//L/4P8WAKUAagCIAEQAJAASACoA3v/o/+T/5f97//P/AgAGAA8AOQAtAB8AFAD9/ygAKAAQABoACAAGAP//7f/x//j/AADy//f/DwCk/z3/Yf8uAN//7P8XACgAzf+1/8T/+//o/wQA9P/0/zwAHgA+ACkANAAlABsA9P/3/xoADQBDACoAIQAbADIAIwA2ACIA+v8kAGIATAAxAMv/3//e//3/5P/1/9j/9f8iAO7/9//6/+z/9v93AFUAJQBWAGcA5QCRAE8AawBXABMAx/++/6z/gf+5/4H/fP+A/5b/lf+s/7P/7f+//8X/3f+3/04AaABTAEEAMACf/77/lv8y/3//pP+o/6n/zP+hACEA7f/z/6X/6f+//87/4v9BAH4AQwCQAJsAfQAlADoALwAJAOr/AACu/+L/tv+G/73/0f8i/1T/f/+e/9//fP8q/7T/uv8zADsAIQAbABcAZQBOABIAEgAbANr/+P/b/+f/CgAbAAQABQBI/7X/EwAUAG0ASgD0APEAgwCNAFcAPABaAC4AIgDr/74AcwBIAAIAKQA8AC0A7wCpAA4BwwCiAIYA2AD2AGEB+QB/AVYAXQA6AOP/GwAoAOz/2/+3/9r/AABWAEcANABDAHIAYQBmAEwAEABoAoIBAAHkAGAAnwCDADkAhwCKAF0APwAjACsAwP/R/9n/AADr/8b/xP8dAF4AJQDh/xYADABLAEcANgAiAH4ASwBqAEAAtf9VAPf/t/8QAA0ADwCTAGwAdAAOAEYAQgATAAsADAAuADQADwDv//T/MgD7//j/xP+u/9j/3v/I/0UAMwB/AGgARQBfAJIAoQAoAjsB+QCJACkAFwAmAFYANwA3AEIAKwD4/8f/mv/l//z/AQAkAJf/lgB4AEYANwAWAB0AZACOAFsAOP8f/6z/eP+c/8j/6v/6////QwCL/+j/DgD3/8f/4/8yALz9i/4A/wAAYgBEAEEA9P/+/0AAEQD+//z/AAC8/9L/1P/c/97/8P8PACAAQgArACkA9/8XAFcALQCW/7L/ov/D/+H/7f8PABIAEwAQADcAjQBiAEUAMQAyACQALgAYAG3/yP/e/+r//P/3//b/xv/i/8T/CgDy/53/vP9v/2f/pv+q/7//2v/y/+r/4P8bAE4ARf+A/57/o/+Y/8H/s//A/+H/EAAVAAAAUv+s/6z/qP8OAGUAXQB1ADoAUwBHACMA6//9/wEAMv9o/9f/6f/s/7L/1/8aAN//5f8MAAAAUv+S/7f/1v9R/5v/cP+5/4L/zv/y/8H/1P/U/+j/GAA8ALEAiQBgAEQANwA8AHQAOwAOANr/GQACALH/ev/Z/8j//v/1/x0ALgDi/97/NQBcACUANADV/5//s//r/5wAfQB4AGcA1ABaAEkARgBJADUAHAAjALf//v+N/8b/4/9P/5L/jv+c/7n/zv/d/1kALgAHAAwAAAAAADUAMwDS/8P/EAAcAAcA7v8EAM//8P/O//H/g/+z/77/t//b/5b/AQAUALwADQDF/8T/6P/5/xkA4P+h/xYATwBLAFkAZQDAAIsAgAA/AIAAeQAoAEkAIwBKACUAQQBjADkA8f/9/3EADgDp/0QAbwBHAFYACwGHAEMAPABpAD8AkABpAKcARwB9/7//1v/q/+f/AgDs/2oAHwHdAHUAQgDc/9f/HQARAIz/GADl/4cAv/9g/6L/Wv+n//v/CwDz/+H/u//z/9X/5v/b/9b/GQAbAAcABQASABkA2ACZAM4AIQB2//H/CQDu/z4A9P/q/w0AQAD1/+3/BgAJACEAFwD8/6L/4f9IAEQAcABRAHEAQQA6AEEAOQDi/9b/jv9IAQcA2P/o/woAOgB4AHoArACw/wIALgBCADwAQQG8AC8BzAB4ADIA//8aAPv/8f8VALj/r//w/w3/+/8DAOD/BwDw//v//v8KADgAMgAjAOv/NQA3ANj/SQASAM7/DAAeACYAHAA0ACsAxP9K/hv/3f+yAHAAVACEAEgAlAD7ALUAiABSAGgAYgBGADYA0P+L/7//wP/p//X/zP/M/+b/sf/Q/7QAHgHUALsAPgA8ABYAIgDk/2b/vv/8//P/8v9NACUAUAAoABj/T/++/9f/0v/L/+r/DACT//v/IgD4/xcAYAEHAewAlwBBAC4AEwApALv/yf+r/7//IQDU/+z/yP/l/w0A9f8PAAsAGgD7/x0AXQBFADUAMQAPACcAHgAFAO7/NgAJACgA7v/W/7//tf/d/wQAwP/c/8H/2/8uAHUAZwB8ACIAWQAtADcAaQBsALYAtADs/5z/1P9BABsAWwAwAIUAXgD8/2UAqAA8AHIAPQDZ/77/uP/D/xUASgAwADYAnwCFAEAAfwALABYAWQBOAGkAKgC+/+P/9f8UACwA+P/4/xQAXQDF/z8AYwBcAI4AWABmAE8A9//P/9r/5f8ZAHcAHQDp/w8A2/8/AGEATwAGAAQAHgAwADAAGgDS////OgAcABUA4QBDACEAGgDu/woA7v/r/zUAAAAYAAEAAABrADMA7v+z//n/FAAYABoAUQB7ABUAGQDl/yMAOQBWACYA2P8ZABYAnv8AAGkAswBoAAkAQQDq//T/EwAnABcAJgAKAHgAugDPAJIAWwBWACoAIQCA/67/0P+G//T/9f8VACYADwAEAPL/qf+a/8T/6P4m/3v/vf/+/+//1//Q/6D/EQCk/7z/p//t/+//LQAuADsAjgB4AGgAIwAtABUBLAHHAHYAFwAEAOH/JAAcANv/7P+x/7L/rgCgAGcANAADAAwAHwD2////QABWADcAGAAHAA4A5wB9ALD/rwFjAf0AvgCbAJ0AlwDf/0EA9v8cAPb/FAAVACYAYwBYAMX/OwBtAIAAgwBWAFYAGgAEAHQAQwADAIj/nP+O/9H/5f8DAAQAGwD3/2cANgAaACoATwBCAPb/JQAxAPf/UABkAFYAKgDZ/1sA1QBhADIAHwAaADcA8f8kAO3/7f/g/wQAGAD0//j/GAD5/+X/8v8RABsA3f/y/3n/pv9+/5f/s//4/x0AYAA3ABgALQBZAEoAsABbAIgAmQAxAFoAPAAZAMf/LgBJAFQAjwA/AG8AvQB/AEcAAACu/2QASwBEAAMAIwAmAAgALwA3AHUADgBTAEcAKADl/0cAtP/L//L/3v/j//L/7f80ADIASwBjAHMAPAAKACcBUABQAA4AGgCOAHIAywCvADIArP8xAMz/tf/9/woAAgDV/wUA6v8UAIIAaAAdACoBfwCc/9X/z/8YAAQAkv/R/63/GQAPAcgAXgAQANL/uf+c/8r/EgD7/ykA/P/t/zUAJAARAAwA/v/a////MgAzAAsAFAAEAM//JACx/0oAVgBiAA8BjgCKAOcAtQCVAEMA/P8FADEAFQAXAAsA2//K//r/ff/4/9//YQAzALD/3v8BAMwAbQHOAJUAnADcAMwAZAA6///+O/9+/6b/jP/N/yUA9P8pAA8AawDd/9f/1/8kAAUAdAAZADUAIQBYABUALwDz/97/HACIABQAuf/U/x0AHwA3AC4AVABZAEQA/v9jADYAHwAoAA0ALgB3AAkAKgB4AFQAagC6/+j/5f/b/jX/x/8HABEAagBQAHkAggCKAPL/6v/z//T/igBzABwA+P8IADAA8P8vAAUAx//8//D//f/+/28AHwBAADkAvwCqAIoArwAVAbQAFAAIAEUAOgB+AD8AnwA6AIwAXgCGAGQAbgA7AGEAYwA4AGIAKQDP/5D/kf/X/53/9v8eAPH/0v+A/w0A7//4//7/zf/N/+7/q//y/5H/vf/5/xgAz/+8/93/zv+Y/8j/lf+5/4X/o/8WAMn/t//5/1f///5C/7z/cv/L/8n/v//J/yIATQA1AOIApQBWACsA+P/DAEcANgCl/7X/4v/F//j/1v/a/97/4P+S/47/qP+G/8z/vP8GACMAAgA5AA8ABQDw/6f/9//x/z4AEQDYAKcAwABnAFoATwDG//b/zf/o/7v/8v93AN0AcABkADQAJwAGACQATQAFAcsAiQAzAKkAMwHvAJcA4f/R/9//q//M/6f/hf+R/9b/G/+I/6j/kf+o/+7/zv/J/wYAbgD6/+b/CgAuAGwAeACRAJoAeABFAM//DQDe/yAA/f/1/yAARwBBAG8AXwAjAPf/FADo/xEAdgC/AHMAewBKAIUAfgCcADkABAAXAF4ADgDT//n/QQBSABgANgAFAM//rP/m/+b/NgDa/5j/kf/U/wkAwv/n/34ABQDq/7z/z/8WAF0ALwAtAAgAHwADAPz//P/4/w4AFQBFAFAA6f/L/+3/AABJAGIAVgD3/0gAQAAsAAP/Uv9e/6f/n/+W/87/vv+c/5L/df+M/w0AfAAwAGwAmABvACAAHwBhADsAHAD0/1AANgDk/yAAMQATAAQAqP/7/+X/NQD8/9//HwANANv/7////z0AegAhAB0AIQAGANL/2//q/9X/xv+D/wAABwAAAHT/nf8wAFIA1f8YAAAAFgD7/ygALgDp/9j/PwCqAOIAYABGAHUApgCnAKcALAASAEEATQCeADsA8v/H/5MAUgCz/7z/a/9z/7D/3P97/6//FgAEADgAKQA6AF4AAgAqANn/pP9K/2v/k//r/zMACQDW/+T/AwAOAC0AJADb//z/HgDBAIYAUAA4AAsBTgExAaMAfgB4AF0AMQARAFMAEwD///X/sv+P/5f/yf/O/7v//P/X/xAAGABqAFIASwAGAP3/LQAKABIAFgANAA8AGwDb/93/wf8rACkA//8hAHsAYADCAKgAXQCiAF8AWgBLAHoACAF+AH0ACgCr/z8AIwBdACkAWwBpAHIATABzAG8AKgANAHIAYgBMAAYA4v8QAO3/9f/r/wIA6f/h/7b/w//F/9z/BgB0AG4AUwArAFIASQA/AEkALQBsAJMAYwAAACUAVwD3/8f/+/9KADsAWwBFADQANwAbABoABQDg/08AOQAIAO3/nf/z//D/BwBUAFoAhgCGAB4ADAAVAOX/BQAtABQAfwABAPb/FgCxAH8A5wCpACwAHAAiAE4ALwASADgAFwBcABYARQAVAEgAhABgALr/uf+l/9D/7f8ZAPv/cgA2AGAAOgABAO//HQBdAEcAuADdAMsAYQB+ADUAVAA2ACQAMAAJAG3/yP+6/ykAJwD1/+//FwDh/+7/SgBcACAAGAD//yoAkAA/AAUA0P/f//H/BgAVAGsArQCSAEcAAABUABsATQAnAPP/MgDE/1IAFwD6/wcA6P8zAKEAUAAsAAoAQwADAOT/xv+u/+n/QADj/+j/yf/J/87/EwB+AJEAeQCYAGgAkgAIABAASQAzADQAJgBnAEsAJQBeAAsAHgAoAEAADwAdAMP/+f9s/03/m/9z/3H/wv+7/8P/kP+4/+z/6v8ZAAsATgBAAAMAIQAZAN//MQA0ABYA4AC9ABYA//+K/0gAOwBAAE8AKABPADoAWABuABEA9v8fAPEAnAEJAdUAUwAeAOn/GgANAOX/FwDF/8//JAANAMD/tf/B/6//hv/s/8//KACx/5b/jP/g/4EATQATADMA7P/0//T/VAA+AAYAewBlADcAQwBdAF4A0f+t/2oAZwA4AOT/BgAsABoA+//6//7/6v8rAG3/5//h/9L/9/8fAH0AOACsALQAfACBAFkAkwAQAAsA9f/+/87/2P/b/+3/6//n/+b/hgCrAHgAdgBRAHIAvgCfAGgAHwBkAFkAnf+4/5//8v9DANr/EQBKAGoA/f/9/8P/zP+s/wQALABHAFcAMwARAOP/9f8aAPv/nACEAGYAXwDz/5L/h//Q/9v//v8mAPf/fACaADQAUAApACAAUQBAAEQAAgA9AJYAmwAoAGIANQBhAC0ARgD1/7T/6/8JAIkAewDlAKMAegB3AFcAIAC//5r/c/9+/0b/ZP9//7f/Q/+i/6n/yf/c/wAACgA1AP//IgA8AEsAUgAfAD8A8P8bABYAOAD1/7X/tP+0/7X//P8MAC4AKQBEAAoASwA/AEYANQBPAHv/kf+J/x4AKAA7APAA4ADDANkAdABZABsA9//7/0H/mf/x/5T/q/8rACYAWgAkAGIAOwABAO//pP/J/7P/GgAmAPL/OQB4AG0AQQAsADUALAD1/8j/EQAiAOX/qP/9/3AAJQAXABIAuv+O/67/EwDm/wUA0f8HAE0ASAB/AIEAaAAUAPH/CgAmAOn/6v8AAM3////Z/xkATwCQABABDAHWAIAASwCQABEAGwDh/+3/XABYAL4AgQBnAGIAeQAeADsAMgDMAJMA7AC3AIQAkwCUAGIAFgDd/23/ef/k/9z/DwAHAAQA9P8qAA8AMwBwAEYAJwAaADkAAAASANn/GADC/97/8P8BACkANgBOAGsATQBXABIA8/9zAJEARQB1ADQAGgBPADEACgAHAOf/0v/i/8n/DQAAAO7/VgA4ADIA9v/j/9v////e/93/0//W/8n/DQDl/9P/o//G/yUAiQD+/+z/DQANAP//BQB0/4L/2P6F/57/if+v/xEAHwD//yIAGwDV/xUAwv8BABkAOAAgAM7/+v8MAPP/xf8PABMAQgAlAIj/U/+3/8D/4/9fACUA5v8TAAsADQA5AAgA6f8UABAABQAMAOP/2P/z/yMAEgAVAPD/IAAsADEAMwAgAP7/xv8kAEwA+f8tAOr/7f/t/7X/y//k/+//QABfAP//JgBMAFUAaAAyALf/AQByAHEAhgAbAEIAPADp/6n/v//y/+H/AgDa/xgAvv/Q/xgAQwBPAOb/AAD5/7f/8/8YAB4AVgBUAKwAewAiAAAA5P8VAN//AAAVAA0ARwBrAPT/x//1/ykABgB1AGIAKAAHAAgA1f95/2//4v8nAGUAJADg/xcAHgAZAAMA7P81ANH/2/+1/wAAKABGAGUAfABxAIMAhwBHAHkABQAjAFQALQB+AFAAVQCAAGgAZgBVAJYARwAxACYARgDy/wgA2P9JAHgAXgA9AAsARgBkAFAARwAsAG0AVwAcAAMABwAcAOb/+f9uAKkASABkAAQALgAnANv/sv9C/23/1P8dAFAA7v8wAFQATAAfACsAqwB3AC0ACgAxACQA6P/l/y8AKwBEAEIAFABsAHkA/v/r/ycAoP/R//H/zv8qAAwA+f/T/6f/qv/n/+r/yf/h//H/4f+V/+7/4P8bACQAWAA1AFUASwA6ANEA8v/Y/3EAPAAFAG//qP8LAOL/2v/qAJYAjAAaABIAxf/n/+v/uf++/+b/GgBRACYAIAA7AN//JwBGADAAFgAnADgADADc//b/vP+l/43/zP/A/6j/3f/Z/7X/t//B/9H/tP8qAAgAigCAAEkAUwBiAEYAMwBQAA8AOgDJ/xIAOABUAGUA3gCvAH0AdwCVAK0AtQB7AGIA9v/p/8H/sf+t/7f/ZP9m/7//sf8UABoA3v8ZAOz/JwDz/xsAhAByAJEAOQBiAFIAXQBiAEgAPADn/wQAGwD3/7f//P/o/xkAMQArAAUALABwAGMAbwByACEA+/+y/7P/+/8AAEIAMwAIAPn/DwDz/3QAAgA0AFAAXgBGAC4APQAxAPv/7P8jAMv/IwA1AH4AVAA4ACMAHACy/83/AgA2ABYAGwADAEQAjgBSAGUATwBPANn/v/+i/zYAggBiACwABQAbAAkAgQA6APX/KgBGAGkA+v8gAOv/9//9/w8AXQAxAPP/BgAPAEEAJAAmAC8AAQAeAPj/7/8RAP3/5f/4/xMA6v/D/+//KgAaADgAIwA4ABwALQAXAOz/rv+I/8//3f8OACUAMwD2/wQAGwAEAGcAOwACAM3/xv/v/7f/8P84ADUAJQBsAFAAUQBNAGMAVwD///X/+P8AAMT/TwCNAB0ADQA3AJUAeQAGAAsAOgBVALQAkQCFACwAQQCvAH0APQADAAUAZQByAOQAfgCGAAwAQAA4ACgAXQBhAFoAWAA3ABwAVQD4/xwAyv9v/3X/jv+N/33/8//M/wwAKgAzACUAVACyAEEAMgA9AFEAhQAtACwAdQDq//n/BQBDABgAsf8IAEYA///x/xgAYAA0AE0A8//5/wgAGQAlAC0ALAD3/9r/x//8/wgATAD+//D/8f/v/8j/BQAuAAoAxgC0ABIBxABkACMANwDf/14AEAB6ACUAwf/U/6f/2/+6/8z/jf+s/wIAHAAgAAYAPQAqABkANwATAAEA3v+5/77/3f86AE4AHQD7/93/xv/n/04A+v/X/wwA6v8HAEMAQQAJADAABwAUAE8At//6/1wAeQC/AKIAMgA2ACwAbwBiAFYAaAAtAPT/3v+v/5P//f/7//P/HgA0ADgAPQBTAEkASwAZAO3/4P9JAEwAMAAhAOr/2v8ZAAkADgD+//L/JABMAOv/4v+r/5//w/8JADIASwCJAGEAggCkAFgAMgBhADcAIAAEAN3/AQDl//z/DADS//z/VgBjAEAAegAvAE4AQQBEAIwAhwB4ACkAQgBEAA4AAADH/wEACQAuAAoAvP/T/+z/AgD4/wUAQgBAABwAOQBAAEMA5P/1////RQA3AF8ADwAdAHcAMgBmAFAAMwDZ/7D/q/+n//v/PABAADwA8f8WAAUAJwD1/9//1P/r/wEAAQDy//X/1v8kAOf/DwDZ/x8AHADB/8j/oP/m/7X/uP/w/9X/SwAcACIAUABGADcALAARAAYAGgAHACQAMwA+ABcAjQCRAIUAXwB4AFQAUAAVAPb/7f8wAA8A//81AEYAGADb/+D/6v8FADwANQDn//7/4P9EAPf/5v+3/zEAegCbAI0AbQAiABsAMQA7ALb/wP/w//r/qv++/+z/s/++/+7/4P8QAGoAaQAnADIARgD9/0AANQA2ACwAUQCEAAcAFQDd/wEADwDv/xwAKgAVAP3/LgDj/6H/wf+0/5n/tv/p/+j/LAD5/9j/FgA4AHwARABGADcAJAARAEwARABhACgAZQAhAAYA8f8iACoAVgBFAE4AHQDI/7T/eABxAFAAWwAwAH0AKABFAFoA7f/Z/6P/s/+8/8T/vv++/wAAyP8TACkAZQAbAAsAAQDv/zEAPgBTAFYAGwAcABgA5P8jADIAPwAmAAMADQAiAB4AKADw/xYA9f8pABQATgC7/4D/V/86/4H/jP8DAOX/HgB2AFgAPACFAAsAJAAQACcAXAAyAEYAHQDQ/67/w//d/93/LgCvADsA9P/k/+v/FwDj//T/4/8YAD8AYgBdAFYAfwB5AEwAFgBTAD0A3/90ADQAUQBRAF0A7f/T/yYAGADg/+r/0v8jADIAMQBVAPf/AAD7/w8Avv/D//f/AQD//+D/X/9c/4D/MP98/8P/2P/V/x8A9f/m/wgAIAANAAEA6f8kACYAVQBuAEUANgBqAIYATgASAN//8v/p/97/8v9XAP3/3P/l/97/x/+m/8D/dP+e/7z/EgAPAAkALQBbAFsAEgBMAFEASwAHABYARQAiABoAVABwAHQAQQA2ACQAKgAwAPD/2v/3//n/vv/e/+v/5f/+/z4AAADr/wMAaABwAE4AawA1ABsAMgAJAB4A2f/0//T/HAA+AD4AAAD9//b/DwD5/zQAFwDz/9v/w/8iADEA3//x//r/EABFADgAawCYAJUAaQBeAKkAbwBBAEsAOAA9AE0ARQARAFkAOQAbABcAFAC9/6z/2v+F/77/SQBDADgASwBnABAA0P/L/+7/+/8UAN3/w//Q/0EA3//9/wgAOQARADQA7f/4/wUAAAASACgAOwD0/1QAjgBcAGQAXwAtAGoASAC5AGkALABhACQA+v8OACQAbwBpAE4ABwDY/yIArP/7/8f/2P+9/yIAbABTAE8AJwDv/4v/if+4/+j/DwDL/97/9//7/wcALQB4AE8AUgCPAJsAmgBNACUAVQCIAGUA2v+l/xoARADn/wQAKQA5AD8AUQA/ABsAGAD4/0sAJwDS/wYABwD8/87/VwBAAFEAMQAgAIwAUABJAH8AYgAuADoAaQAdAC4AJAB+AF4ARgAPAFwAZwBUAEoAVABXAM8AcgCbAEAADgAZAEIAQgAfAP3/yv8hAEMAGgBvAEAAQAA/AE4AOgAuADcASgD4/1MAPQA8ACsA+/8wAOL/DAAoACsAMQAqAAMAFgAQACAAHQA0ABwACADd/xkAWwB1AEwA6/8dACkA4v/P/zwAcwCZAF0AaAAdAOz/AwAEAC0A2P/8/wYAqf///wEAYgB5AHkAbwBLAGgAIAAUADcAGQDK/wQACACl/+3/xv8dAAAASABSAAgA7v/i/x4AEQDz/9L/DQD2/yAA6//x/+f/2v/1/zMAIQAnAP7/8P/R/6r/3v8eAFYANgBPAEwADwBTADQALgBVAEMALQALAB8AXAAqAPL/7P/x/ygAHwBGABsA2P/q/9D/dv9z/6r/6/++/8T/GwA3ADcAMQAkALUAQAD//1gAdwByAKAAWABpAFQAUABVAIMAMQCjAH8ApAAxAEIA2//S/7r/1//C//j/FgA9AGAAZACeAFMAVABMAPv/BgBBAEAAFgA4AFwAZABqAE8AUgAyAA4A9/8JADEALAACACkAZwAeAPT/0P8/AIgAbgBmAE0AIAAxAM3/pv/v/yEA1v9FAGgAQwBBAFgAPQAaAPP/CAAIAOv/+P/y/1sAQQBKAGMAcABaAEIANwDt/wQAPQBHAB4AOAA1AFYAOgBlAJIAZgBZAEUAHwAfAMP/jf9q/1j/Wv82/7n/of8iALz/3f+q/wAAy//b/9f/9//0/8D/4P9aABYAy/+7/7//yf/U//P/wv/G/7///v8HAMz/FAA8AFgAKQBBACAA9v8gAO7/1v8JAN3/BwDr/wsAHwD4/6r/BgBdACkAGwDh/8n//P/J/wYAHAATAO3/JwAoAPD/DwDy//r/CgDM//T/PgA9ADMAJQDr/8P/xP/u/wQAOgDb/xEA5P/b/y4AAgDA/5P/yP8IADkAXwBVAFkAUwA6APn/pf8MABwA8P/S/y0A8v/o//P/2f+f/7//yP/I/5b/av+o/93/5v8IAA0A7P8SAEUAuP+U/7b/7f8DAPv/8P88AAsACQAYAPH/HQA4ACcA9v9NADgA6v9IABQA9/8uAMb/wv/x//X/BgBHAEUAFQAiADQAQwAmAD4AiQBQAEIADgAAABQAKgA0ABwAVgBQAA4Auf+p/6//CAAQAAUA6v8ZANL/1f8BAPL/9//l/+T/AwAbAFMASABfAIsAQAATAC4AVgBTAGQATQD0/7r/2f/m/+b/6P///8b/NgAwAEYAcwAYAA0ARQAeADAAv//L/6L/1P/g/x8Awf/W/y8ANgAlADEABwALACEAOwBOAA4AKAA2AFIARgAzABsAFwBrACQAYgAbAAUAFADb/+X/8P/Y/9v/XABmAFkAIQAyAPP/DAAgABYANQAlAAQACgAvACkA2f/Q//f/9P/8/y4AVQAYAC4AQABUAAoATAAtAAMADAC5/8f/EAAJAA4ANAAxABUABgC1/w8AJwAUABYA+v8WANP/4f/s//f/DQAdAC4A+v8NAO3/4f/o/8H/5//h////KwBIAB8AAAD6/xsA4P/D/3T/qv/g//D/GwA2AEAADwAwAFgAVgBeABoAVQCyAIkAgQAXAFcACwAJACoAKABjACsAKAA4ADkAYQANAO//uv/P/xkA8f8ZAA0ABgCu/6T/1P/r//r/9f85ADoASwBVAP7//f8SAC4ALwDu/6r/4f+e/8v/4/+2/9D/4P/8/wMACABMAB0AJADX/x0ACwDo/+3/CwAEAPX/UQBpAE4AdQB4AEUAWwBMABoAIAAqABIANABUAOj/LwB5AIIAmwA8ADgARgAmABsATwBDACEAMAA6ADAA/v8KABAABQDG/6j/uP/F/+//6f+b/+H/AAD//wAAAADn/wcA///g/8z/2//P/9P/BwAaAB4ACAATAAQAHgD+/0sAUQAQAOn/7v/m/wYA+v8KAAMAGgAhAAAALQBFAD4AAAAjAA8A9v8BAAQAxP/W/97/yv8MAP3/+/8bAAUAEwD8/0UAYABFACMACQAVACIALQBAAEAADgA6AAUAEQDf/9v/z//V//j//v9gADgAHAAzAAoAKgAlAFoAfABeADAAFQAGABQAWAAIABsAKgANAPX/zP/W/xsARQBGAPH/8/8QAAEA+P8GAOr/r//J//T/7v/L/9b/5/+1/8z/+P/+/woAHABOACQAbwBMADAA1f8vABsADQD0/9n/t/+9/+T/RwAyAAwA9P/O/+r/DgD1/wAAwf8LACcAAAAsAB0AQwALAP3/NQBIAIgAgQBQACUANQA+ABgAEgBRAFoAIgDV/9f/+f/7//r/5v9kAFMAYwCcAJcAnwCuAKcAWwBXAA4A9P/u/97/z//L/1f/5v/v/+b/2v8VAOL/9v8HAPH/wP/A//r/6f/X/+D/1//o/ywANgAEABoAKABDAD4AYwCBADsAfwBrAD0Az//P/6//k/+t/7H/xv8rAAkAAAD1/1cA0//9/+P/wf/T/+b/7f/O/9v/BgD7/wYAuP/B/9X/EAAEAEsAJQDe/+z/3//X/xcA5f8AAAEATAA8AD0AKgAkABcAFgAbAPv/pP9z/8D/qv8LAAoAKQA4ABQAVgAHACMAKwBSABsAQgAxAB0ACgA6AOj/wv/l/7b/r/88ABcAWgAuAC0APACNAF4AdQBfAF0ARwAZAGMAGwAMAOr/8P+hAHcAqgCeAGMALgBeAF4ARQAGACgAPgA5AP3/HQAuACcAMgAgAAEA2f/v//7/4v/4//n/RQAxAPj/9P8FABUACgAmACIA/f/x/0IAOgA4AEIAbQA5AEcAKAAIAAEAGAAPADEAPQDw/8n/1P+v/7T/7f/l/9T/z//Q/wwADQDV/wgAQABeAGIARQBEAEQAGADx/xQABgAYABgAJQAWADIA+v8MAAMAKABNAKoApACOAOn/IAAMAO7/HwBBAHUATwDq/+3/9/8zAF0AUAAqADgA3P8OAFwA9/8yAHUAOAAVACsAt/+3//D/zv/0/93/qv/7/1wAUAAcAA8A+v8XANX/6P/H/6j/9//+/yEA+f8VAAIARAAoAE4ALwArAEAANQBNAP//s/+2/+//awAuAGkAOwArACIA6f/9/yIAJABjAK4AmACHAIIAbwBFAFYAPQAAAPT/MQATABwA+P8xAAwAQABGADYAOAA5AB8ACQAtAC8A7v/C/+b/DgAeABcAFwBkAEUAIAAHAAoAIAAnACUAVAAbADYAPwBRAD0AWwBtAEoARgAYAPj/OgATAEwA5P/R/6D/3f8GAAoAHQAUABkAEgBNACIAGwD6/xgAGQAiAPX/KgDv//7/DABVAJEAVQAAAOz//f9SACcAKwA7AEQAHwArAB8AUgAdAC4A9P8oADgAEAAmANn/2P/Q/8z/BQARADgAAgAAAO//5P8NAC4ARgACABcALwBQAEgA6v8ZAB4A1P8MADMAIAAoAF4AWwBkAEkAEAAbABIA8P8MAPf/nv/G/+L/LwAiAC8AEgBEABEAFwAjACQAUgBVAC0A9f/Q/9f/1f/O/9L/wv/T/xoAJgDe/w4AwP8IACsAUgBAAAoABQD8/xcAHgBVAFEAVQA9AEcAKwBEAPD/DAAkABcAJABHABkAAABJAF4ASAAFAEYAEAAFAAIACwACAAIAGwBCAGgA7f8AAPz/GAAgACAADAAMAAUA+v8JABoAEQDw/wYADgDv/9n/6//4/08AUgCNAHQAWQBXAAsA9/9FABwABwBGABUAGADo/97/6P/d/9z/IwBlAGAAggClAE8AZgBLAFcAewBVAE0APgAWAPb/AADM/wkA/v8lACIABQAmAEkAYABBADgARwD2//j//P/w/wYAxf8YAMX/KABeADQAOAA7AEgAOgAyADoAJwA0ADIAWAA8AAwAGgDo/8X/5f/S/+7/FAAHAAEAHgAiACQAeQBjAFoATwCIAHIAfABsAGkASgBHABAALAAPABIA8P/j/97//f8eAAUAIQAAAPb/3//i//3/AAAkAOT/EQAgAEoAVwArACgARAA0ABAAJgBLAFkAOAA+AEoAcABLAD4ADwBFAAMA3P8QAEIACQDj/+3/CwACAOr//v8PAB0APgArAEQANgD2/xMAHgD0/+P/s/9+/6//7v/v/0kAHAAIADoABgDl/+r/JgBJAGEAZABEAPb/JwBWAEQA9v/F//b/EQAMAC8A7f8lABMAMQApAAYAJAAUAA0ABADS/+P/9//E/9z/AQDt/+X/+v/j/y0AQAB6AC4AHQAvABcARgAGAOb/t//v/ykAPQBCAEIAQQBLAAkALQAiAB4AGADX/yQACwAHACYABAA6AD8APQA/AO3/CwAQABkA8v/p/x8AMgBCAPf/GQBRAD0A///y/wsAGwAZACIACQDl/ygAcgBkAIEAawB9AIAAZAA0AGsAQADu/9T/2v8CAAAACwA5ACcAEgAXABcA8//X//X/FQA1ABAA1v/F/9L/xP8PABgAEAAHAAoAMgAVAOD/GAAQAAUAEgD0//f/GwBKAJUAhwCjAHUAgwBsAEsAHADi/woA+/8kADUAQAAvADQATwBKABYAIQDS/9z/yf+0/7r/vf/P/+L/0/8jAOz/2f/y/8j/zf/h/y4AHAAbABEA9P8JAPz/EAA6AFIAIgAyABcAHgDo/woArP/1//z/KwBQAFgANQBTAEUAZQA5AGMAOQA/AF4ATABDAEQARgBmACsAEgAkABMAEwACABIAHwAMACIAOAA3ABgAHABAAAUA+f8sAC0AMAAzACMAEAAgAOj/BAAhADQAFgAcAAYAIwACAAwADwAnAA4AHgA0AAUACwDz/xMALQAXACAA6f8LAEoALAA1ACwAMAA6ABoA2//k/w4A+v8nAEwASwA7AEAAZgBNAFsAKgAfADIAFwD0/+7/RgAqADQADgDI/6b/uf/i/wcAHwBSAD8AMAArADsAKQBNAGAAhgBhAFMANQA8ACMAGwBJADgAQQAlAEIAHAAVAL//1f8EALj/zv/P/77/4v+t/8r/3f/F/9//tv+v/+3/7P8EACkAUgBRACkASwAFABMANwBiADgASgBFADsAHABeADkALAAQAOP/2P8IABkAUgBKALgAqwBqAHUAHQA4ACoARAA/AD0AQQA5AEMAUAAbAPj//f/s/wcAJgAWAC0AQgCYAFoAOwBTAEAAbAAuAB8ABAD//9r/FQAnAAEA5//v/xQAUwBaAJAAaQBCACQAPgDw/9v/PwAoAE8AUQBeAEIAHwAfACMAHAD6//b/9f/0/w4A4//6//7/FQAZAP3/v/+w/9b/5v/O/7D/5//T////OgAuAPb/FgAAABMAGgAKAAkAPAAmACMATgA8ABsANABSACcAMgBCAFYAOwBJAEYAHgA5APj/EwDX/9//LAAJAA4A8/9AAGoAPQAnABgACABAABQAyP/w/ywAJwAeAO//DgD2/2MA9P/u//b///9PAEQATgA1APT/yP/w/wQADgAFADQA4/+1/6//nv/f/+L/6v/Y//P/FAA8AAsAHAAqAC8AOwAnAPj/4v/n/xgAEgAkAGYASQA4ABYAFQAeADYANQArAPr/+P8AACQA7P/0/wAA/v/2/ysADAA5AEUAXgBcAD8AJAAXABwAFAAnAEcAdQBoADQAQQAyAA4AAgD4/+//9v8KAOD/7f8EAO3/7P8jAEQAMAAIAPL/LgA2AAUADwD4/+//v//R/87/SgA3ABEAKAAxACUAFgBJAG0ARgAXANz/7f///0QAOwBNADQADQAuABQANgAFAOb/DAARACYAJwAsABgATwBlAEUAPABWAB4AGwA1AFUAWQApACQAWgArADkAAgAlABMAFQDb/8n/sf/e/9H/7f8EAA0A8f/6//3/CwDy/x4A6v8SAAgAIAAHAAIAHQAoADQAEQAxADMAMQAfAAAADQABACwAVgAnAAEA9f9EAA4A+v/w/9H/8f8IAN//xf/8/zoAQQBsAC4AIQA7ACEA+f8QADYAXgBhAEgASQBcAEsAQQAqACEANwBPAEEAWgBQAC4ATQBaAEgA5P8MAO7/4f/h/4j/lv/n/xYARwAlAAIA5//u/wUAAwAuABkAFgD9/wEAEgDT/5j/vP+o/+T/CgDj/x0ALAABAAoAAgAOAD4AMQBAADAAHQAnAAAA+/8TAD0ARgBUACgA/f8VACMAIgArABkAEQAJAP//AADe/87/uf/m/8H/8f83ABUA+/8vACMASABFAHsAdAA/ACoA8v/g//v/MgAvADsAFwA4AEkAHQAdAEwAPQAfADkAEQAuAC4AHAD9/xAANABDAB4AHQAMABUAPQAZAOz/8f/f//X/1f+r/7r/z/+z/+r/4v8FAOb/7f/t/wgARAARAAwASgA/AFIANAB6ADQANgBFAEIAWQBnAEsAMgAmAPn/IgAtABkA9f8SAO//KQAIAB0AGgAgAB8AMgA4AFIAXABgADYAQgAlAB4AIAAYAD4AKABIAIMAcAB/AHEAYABsAE8ALwA6ABMAQAAuADoAEQAAABQAGgD+/xUAMgA3ADcAPgAIAAoA/v/h/+v/AQDP/wUALgASAAAA//+v/+r/HQAAACsAEQDx/wsA9f///wwANQA2AFMASgA6ACsASgBBACcATQBfAGgAJQAzAE4ASQAAAO3/8//+/+3/2P/f/+b/4v/2/x4AAgDi/yEAUQAnAFUAQgBcABYAHgAYAA0AGAAwAGEAOwAiAEcAIAA2AB4A+/9CAAMAKgAsADYASgA/AGcAIgAOABwATAA1ACMAKgAcAAIA6f8FABwAKgALAAwASwAjAA0AKgAWAAsAEgDK/7T/8P84ADQAQgAmAA4AHwAuAO3/EwDi/+//NQAwAHwAUwB1AGMAJgAtADAARgBVAEMARgAuAEcASABkAD4AEgDR//L/EQAIACwAOQA9AFgARABqAHUAfwBSAC0AVgA0AFoALAAnAC0AKQAeAEAA4P/5/wIAHgAKAOv/2P/p/xYAIQA0AC8AJgAgAAoAHAApABEA+v8BAPj//v/8/wMAMgA8AB8ANwAQADQAHQDz/yMAKQD9//T/9//0/+v/CQD+//T/8f8fADIALwDu//3/MwASABcA9//s/xAAGwAXABgAPgA4ADUAUQBFACgAMABeAEoAXQBGACwAOAAkAFUANQAZADQAEgAYAM7/z//P/+n/JQASACYA/v8nAAMA/v8KAEEAPAAYACAA7P8SADgATAAuACsAIwARABEAFwARAAQADwA1ACYAMgDs/ywAUABRAGwARwBFACsAFwAQAA0A+//3//3/3P/k/w8AIgAuACgA9v/0/x0AKwACAAEA5v/+/wcA9P/u/woAJwA1ACAADwD+/xAAXwAZAFsATwBGAEEARgAfABwAJgAxACgALgASACUATgAiAEcAEgAHAC4AMAArAEEAGAAEAP3/+P8hAEkAPwBNAGIAPAAlABMASAAFAOn/FQDm/7v/wf/c//3/xP/l/wIA/v8IAO7/NQAxAB4AGADe//j/HgAvAEcAFAADAPb/EQAYAAQAMgAqAB4AAAAFAOP/4/8UAB8AGAAVABEAMgAgAA4A2v/h/87/BgAIAA0ALgAzADMAKgAWAOX//P/t/9//2v/m//z/BgD+/wUAAwAjAM//+P8WAFEAMwAvAEYAOwDp/9j/IgBHABcAIgD9/xoA3//n//z/CwAAAA8AIgASAEUASgBrAHYAXwBVADUAAAAFAPj/8P/1/xcALQA1AEYAJQASAPv/+v/+/yoAOQAmAB0ABQD7//n/6P8RADIARgBUAGUATQBYAFYAHwAoAEoAFgABABgATAB4AJkAdwAPAAkA+//F/7z/2/8RAD8A9/8nAGgARwBXAE4APABZAEUAAAAmAAsAAQADADQAEAAsABoA5f/H/yoACgAMABUAFQASAP//AAD2/87/5f8SAOv/9////93/5v8BACYABgAEABsAHgA5AFEAPgBAAFMAXABxAE4AIQAsACsALABLAFkANABdABIA//8UAPD/7v/+/xQALAAgAP//GgAeAAkAEAD8/x8AFQA1AA4A4P8KAPH/GwApADEAGwDq/xEAIAAiADAAPwAmAPj/8v/M/+H/AQA2AAcADQD4//L/CQD4/xkAJAAhACsANwAIAPL/8P/j/xIA8f/s//b/IgABABIACgALAAQAFQA1AB4AHgD2//v/9P/o/woA9P8oAAQA/P/9/97/1v/n/wMA8v8DACcAPQAuAAcAGwAGAB0AMgBeAGoAOABOADUANgAjABoA///6/wUACAD8/xAA7v8hAB0AKwAZAP3/LgA3AFUAOABZABgA9f8bADYA/P8iADkAIwAtAEgAIQAmABIALgBAADgAGQBeAEoARgB3AGYAGAAvAEcALwAIAAAA/P8VAA0AKgAvABwADwA6ADcASQA/ADIARQAtAAgALQA0AD4AOABmAHQAWQBnAFsARgAuADEAPQARAAAA7f88AC0ABAAaADIATABCADoAUAAdAAUAOgAhAOn/3v/d/9//4P8CAAwA7v/x/8v/3f/n/8P/7v/D/9f/0//5/x8A9P8fAPL/9//p/+D/HwD3/9z/CgAAAAQA9P/1/wQABAApABoAJwBJAFQAUAA+ADQAGQAsABMA7/8iAE4ATABcAF4AMwAqADwA+P/s/+3/7f8WAB0ANABtAGAAYQAsAPr/BwARAAEA9v/9/9//0//k/87/3f/f/zgAKwDe/+b/7v8wAAYAJAAZABoACAD2/wgAMwAlAA4AIgANADAAUgBEADwAHwAAAM//FQAJAA8AHQAhAOD/9v/2//P/6P/0/+v//v/v/wUAJAA1AC0AQABKAFAAHgBZAEsAIgDi//z/8P/9/+f/IAA9AFwANADt/xQAzP/J//P/9v8eABAABQARAAYAKAAgAP7/CQAsAB8AKwAcABUAJQD9/ycAIgAEANT/5/8mAC0ALAAuAEYANQDx/w4AAAAHADQAJQASAAkAIgALACEALQBAAPr/2/+0/wgADQD//xsAMAAzACMAEwAfAPf/KQAzABcAMAAeABkAIgAdAAMAJwBDACcAJwAqACIAFwA7ABQAFwACAO3/z//h/8H/5v8AABsACQAcACQAFgAAABEAAAAVAA4ANgAQABgAMAAzADQAIwAhABYAGQDy/wcAHQAoADYAEAAeACYAVgA7ADwATQAnACwALgAlADMAEwAlAB0AGAApAEcASQAsADgAJQARABEAHwAbABwADwAqAEIAWABEAGgAZgBeAFoAVwBmAEwAQAA6APP////x//X/HQACAA8A8f/z//T/5/8QANX/9//s/9j/AQD0/+v/0//V//3/DgAsAAcAAQAMAP7/FAD9/wwAJQAPACwAIQDW/wEA7f////P/7f8FAOD/AADs/+z/7P/3/xMAHgAQAPj/3v/f/9P/6f/2/xUAGQAvAB4ANwAjACMAOgAkABEAKwArAAkAGQAUAA4A9/8eAAMA+P/f/wMACwAZADkATQBCAEcAEwAOAAEAJQAWAPH/yf+5/7//7/8YABEAGwDl//X/HgAkAO3/3v/B/xQAAwDu/xQALAAaAAgANgAkACsAQABIABsANwBiABcAJwAfACAA//8nAAwAHgAMACUABwD4/+f/7f/q/yUACAARACwAFgApACoAIgApAE8AQQBbAGUAOAAvAEsAMAAQADIAFgDn//z/9P/2/8r/7f/v/ycAKwAIADkANAAUABEAVgBhAGUAYABoAEwAPABSAFAAOQAMABYAOwA3AC0AJwAgAC8ANgA5AAoA7/8XAB8AKwA1ADQAJwBJAFsAZQBGADQAPQA8ACoASwAdAPn/MwAHADYA/v/6//f/7v/M/8j/AgAdAAUAHwADABsAMwAJABoA6f8NAPj/HwAMADkABAAAAP7/BQAlABQAGwBQAFoAMgBLAEUAVQA3ADEALQAlACgAIwAOAAAA7v/9/+n///8ZAAAAGwAPAB0ACgAKABcAIwA4AAoAAwDK/+f/9v8lAEIA6f/7/xEAMAABAAwAMABGADIAKgAVACoAQwBPAEwARwAMAAsAEgAtACUACwAFAPP/OQAmAE4AVgBaAEAAKgAqABkAHgAuADgAKwD///3/AAAVABcAHgAhABwADgDw/wAAGAAvADcAHQAAAB4AAAATABsAEwAjADwAPAAfAA4ALABAADEAKAA6ACkA7v/4/xQAAQATABoA3/8UAPz/7//r/wkA7f8kAFAAMwAcABgA/f/E//D/IwAqAAcAAgARACQAKgAiACkAQgAeAOT/2v/v/+b/+/8DABEA+v8UABsANQAeAPb//v8AADkAKwAdABoA//8GADUAHgAXABwA7//j/xsAKADe/xcAIwAOACkAJwAwAEAAMQAaAOT/AgAPAA4AGAA+ACoALQAoAAgAAQApAOX/BQDh/9P/CAANADkAQwBFADEA+/8UAC4ANQAzAEYATgBcADkASgBOACsAJQAdACwAIAAdAC8AIAAWACkAKwA6APn/AABKABIAHwATAAkADQAVAA0ADADR/9z/CQBMAEIAJwAvABYADAD2/wYAFAAfABQACgAkAB0AMQAxABQAEAAFAA8ADQAsAC0APQBWAFgAMgAoACMAGQALAB4AFAAOABsAGQBEAEMALQAkACwAdABoAFkAOgAjAEYAPwAfAP3/7f/m/xgALwA2AB4AHAA3AEsA+P/i/97/0P/+/zIAWABRAEUAMQA5AEcAaQBWAA0AAwDx//f/KQAwADMAJAAtAAIA9v/X/9j/7f8NACIAMgA5AEAAMQAyAEcANAAvACMADwA+AC0AJwAxABgACQAIAPH/3P8LABMADAAMAAEA7f8BAA4A7/8VAB4AEgAjAEEAJwAFAOX/yv/T/+///P/3/wUA5//X/+D/3P/q//z//f/y/wUAFQANAAYANwAqABIAEAAuACYAMQAxAB4A/v///wYA4/8WABwAFQAWAPr//P8dACgAOgAqAEgANgAtAD4AQQBXAD0AFAAIAAAAKQA7ACwALAABABIAMgAxADEA9f/e/+3/8////wYAEQAVAAAAFgAJAOn//f8MAAYABAANABEADwANAPn/BQAAAPf/CwALACQAWgBCAE0AMQAQABAAEgABAO//9f/y//v/MQArADEAFgANACEAOAAgAAgAEQAlAB4ABAAMACEA/P8eACIAFwAkABgAFQBMAE0AIgAUACgAFwA1AEYATgAPAA8AKgAhABoA/v/x/wsAOwA2AC0ACgDs/woAGQAOAAUA//8iAEIAPQBFACIA+f8cAAwAAwAQAEcAEAA6AB8AHAAgABsAMgBJAC0AVwBXAEwALAAoADMALAA7AB0AAAAVABgAGAAgADIAKwAwAAgA7P8ZADgANQAYAPX/AwAaADQAEgApADQAIABFACEAFAASAAUA3f/t/wcAIgD///v/IgD6//f/CADk//n/MQAjABMAMAAhAA4AEAAFACAAFQA9ADkAGwA6AFwAcABqAFkANwAuAF4APAAzADcAOQA5ACsA+v/1/wcACQArACoAPwA6ADQAPQAbAFkAPQAzADEAIgAgANj/2v/v//D/9v/1/wIAIwA0AEIAPAAgABcAAABAADAAOAA7ACIADAAkABMADQAZACYAHwAcABwACwAFAAEAFAAbAAoA+v/w//b/CwDo/wMA7f8BACMAJQAmACkALwAyAB8AIAAKACYARgA8ACIAGwACAPj/CADr/xUALQAjAB8AJgA2AE0ALwACAA4AAwAMABAAGQALAAYADwD9/xUAQQA9AEQAIgAJACwAFQAlABYACAAlABYAHAAdADEAKAATAPz/FwAEAAoA+v8YAEUANwAuABUA+v/z/97/CQAJAAwADgAaACsAHwBQAEMA//8tACcAHQAkACoAMQApADwAQQAdADkAGAAoADAASQAXAPz/GQAmABgAFQD8/wUAEAA1ABwAEAAOAB4AFwAIACQABgD4//3/6P8XACAAGgAkAPX/KAAWABYACgAIAC0AHAAZABsAFAAVAN3/8v8DABIAFQAYADcAPQAiADQASwAxABwAQAAgAAgAAgAHAB0ACQAjACcAJwAjABgAHQAcAAoAKAAmACcANQAcAPb/AgAiAAQAAgADAB4AKgAiABEAEgAEACIAQQBQADcADQAGABEAHAAOAAEAGgD//xoAEgAkADIASwBAACgAGwA1ADcAFADx/ygAJAANAA4AEAD8/xEANgAdAAYACAD9/yYARwATACQALwA2ACwAMgAnADMALQAyAFgARQBsAEoAQgAzAO//8f/d/+//LwAqAD8AKwAgAAAA+/8cACsAPAA2ADQALQA/AFMALQAFABIAEgD8/wgAGQACAAYAEgAwACYAKgAvAC0AIAAdADAAMwBPAEAADgAHAA8AGwAOAB0AFgAGAAoA5//k/+//AwAXAA8ACwDh//j/+P/x/ycANQAiABUAIwAeAD8AQwAxAEIAPgAsACAAHgAQAEAAFgAIABwACgDw/+X/9P8CAAwAGgAkACsAJgD7/wAAEAARAA4ADQAXAAsAGQAvAC8ANQBDADoAKAAPAOv/BAD+/wgALgA9AEoAOAAjADgAHwANACEAGgBAAA4AJAAOAAYAAgDu//H/6v8YAAoAIgAvAEYABQAWABoAHAAgABEACgAYAAoADgAgAB0AHAAbADEABAALAAAAAwArABAAEwAZABQAHwA2ADIAMgAzAEIAQwBXAE0AOAA5AD4ALwA0ADwAQwA7AEAANgAUACAAKgAdACwAMAAVACcACAAeACwAKgAnAA0AFwAYABgALwAtAAkAAwD9/+H/x//z/wUABQAKACQAJQA4AC0ATgBWAFUAMQA8ADsANgAYAD8AIwAjAE0APgAwAAQA8v/e/+D/1P/u/+X/8f8EAAoAHADi//L//v/z/xoAIQA9ADMAOAA6AEUANABUACEAKwAfAAwAKwAHACUAJgDo/9//7/8SAP//JQAoABcAGwD4/9j/3/8NABsAAwANAPj//P8vAAYAFgAXADkALAAvADAAOQBFADcAKwAYAE0AQgAqAEUAKAAxAEQASgBXACAA/f8AAD4AJwAwACwAJABIAGkAOQAkAP3/CwDz/wUA+f/v/wAABwAXABIAOAA5AB0AFwAjACcA//8PABwAMwArACcAEwALABAA+v8EAOL/DwAoAAgAJQAqACUABwDe//z/AQDi/wgA9P8RAAsAJwAVAAsABwAiACUANAAbAAoAIgAvAB8AJgAZABsAAgAjACAAKgAlAAIAFAASAC0AHwAmACoAJAAMAAgAEAAJABUA+P/1//X/FwAYAAwAAwAEABcAIQA2AC4AWwA8ACEAIgA7AE0AHAA2AAsABwAZACsAHgAQAPX/9P/0//L/9f8KAAQACQAjADEAGwAwADIACAD+/wEAIgACAO//CgACAAkAFAD8/wAA5f/f//f/AQAAAPj/DwANADcANAAMAP//DwANAB8AHgAWAAoAAQAEAAAAHgAzACoAIAAtAD8ASQA4AEMANABDADwAGAAlAAYAEQD8/wAAFAAbABIAIgAaACkAJgASAAUABgDt/wQA6/8HAAEAAwAeADMANgAZABEAHgAZAAQAGgA2ACMA9v84AC4ANQA6ADMAGQAeAAsAJgArAAMADwAwACoAMAAyABoAFQA3ABcAJQBEAFQAPABSAEMAQQAoAC8AIwAmACAAJwD//yAAGQAPABEAMwArAB4ALQAyACQAKgA2ADcARAArAC8AMwBGAFIAYQBoADUAGwAbACsADgAKAPT/+f8GAAAAHwAcACMAJgBDADsAHgAZACIADgA1AFIAYAA3ADUAJAAbAAkADwAGABMAGgAzACYAHwAJACkAIQAyADEAAQAIAAEA//8GACgAGAAeABcABQAWABMADwAaABMAEgDu/wgAHQAoABUA8P8EAAEAHgAHACwAJwAyAC8ANAAeABEAHgAjAB0AJwAtABwAMQAjAPL/+v/8/wcAHgAlAC0ARgBEAEUAGgAtABYALAApACAANQAMACIACQDz/ycANgAXAA0AGAD//yMADQAdAB8AGwAWACIAKwAbAAoAIwAoADMAWABLADkAOAAVACwACQAaABUALgAcAAsAHQArAA0A9//y/xUAHwASACUAOgAvADQAFAAnAB4AJgAAAAMAGAAPAC4AMQAwADwAMgA3ABMAAgAYAA8AGgDw/+r/CAAXACIACQAcACsAQAArADEAKgAmABUA9/8FAPD//P8IAAUA9v/w/wAAJwD2//L/+//W/wsAEgAZAP//EgAqAAAAEAABABgAPgAoACcAJQAwAD4ARwAeABwAGQASAB0ALAAEAB8AIwAxABkA6//2/wsALQA0ADkAKwA+ADsAPgAbACgAOgA2ADcAOQBEABcALAAvABAA/f8EAPz/7f/t/xsAHwAGAB0AGAAvACkAHgBHAFQAUQAwADkAHQAdABAADQAfAB4AFQAQABcAHgAXAC0AHQA0ABkAFwAeABcABQD5/w4AJwA6AA4AEQAWACUABAAeAEgASgAoACkAIAAOADMAEgAZADgAMQAMAB8ACwAcAAgAGQAjAAYACgD7//L/DQAIAAUA5f/0/w4AGAAbACcAKQAgABYA//8jABoAKAAsABAACAAGADMAIAAWACAABQD3/wwABAAPAAsAEgAcAPr/9//+/wQA+f8VAAoA7//8/y8AHQATAPz/AAAGAAgAFAD///3////1//7/4//j/wIA+f8DAAIAEwAsACUALgAmADgATgAuACAAEgABABYAHQAkADEAFwAcABIABgDz//D//P8CACgA/v/y/xkAPwArACIAKgAmAB0APAA+AD4AMwBOACMAFwAoAAwAGQAgABUA/f8KABcAHQATACMAFwAbAA0A8v8HAAkA///w/+X/6//4/woASAAwABUAHwARACUAOwBOAEwARQA3ACsAJQAiAAUAAQAFACAA+v8KAAcAJABBAEUAVABRAEcANwBKAEMATwAzAEgANQAmADkALgAiADQAIQAYABAAEgAaABcAJgAcABoAIAD//w4AIQAyABsA+v/k/xYAIgA4ACQA/v/7/xsAHQAIABsAIAAhADEAIQA0ACIAMQAzACYALAAhAC0AHgACAAYAGQAsABcALwA5ACgAJgA3ACMAFQA1AB8ABAAGAPL/6f8GAAoA9v8BABQA+f/z//r/5/8QAB0AJwApAEIAIgA8AB0ADQAUAA8ADQAtABIAKAAMAAcABQAMAPn/GgAaAAgA2v8BABUAFQAUACYAHwAMAAAAFQD2//P/CAAAACEAKwAjADoAHwAoAA8AGQAkACYAHwAbABMAJQAZAOb/AQAWABMALgASABAAFgAqAC8ANwBNAEUAOwAnABYAGgASABoADAD7/wYAAAD5/xcAFwAoACkALQA6AFAATQBnAC4AIAAgACYADwAVAPv/CwAQABgAKgATACQABgAWABMAEgAiAEEAJgAzABoAOAA5ACoAKwBKAEYAOwAmACAAFgAgABwANABEADkAIwAVAAAADwAPAB8AJAA7ADoAOQAeAAwAJgALAA4AGAAoADgAJgA8ACEAQQAkACoAHgAVAD4AVwB+AHAASgA4ADQAPwBPAEoAUgBGACYAHAAfAB4AHAAVABsAHgBHABcACwACAOT/CAD6/zIAIgAiACYAMwA2ABMAEAALACYAGwANAB8AIwArAPz/+/8DABEAGQA5AFMASQA8AEMAEQAWAAgAJgAaAAwAHAAuACAABwD8/yQAHQAyACQAKwAzACgACAAIAAIABADr/+b/BgAPABkAIgAlACsALgAqABIAEQAmADAADgAXABQAGwAQAA0A+f8AABEALAArADAAKgAsADUALQBCADMAEwArABgAAwARAAcAIQAfABEAJgAUABsAEQAtAEYAHQAVAAkAEQAZABIAAQAFAAwAGAAYABoAIQA2ACIAGgAUABoAGAAAAB4AIwA+ABsALgAlACEAFwAxACgAQABLADkAKwAhADUAGQA2ACEANgAhACIALAAZACgALQArACcADgDm/+7//f8eABQAAgAXAAIA7P8JACQALAAeABkAEgAKAAgAEAAUAB8ANgAWAAQADwAgABIAGQARAPz/AQAeAB8ADwD8/97/8f/y/9v/4P/c//L/EwAkACoAOgAwACMAMQAuABwAKAA3ABQAJQAZACMAKgAMAC8ALQAqADoALQAmACAAMABFACwAGgAjACIAIQAhACMAEwAJAPf/+v8EAAAAAAAGABoAEwDy//7/4f8GACcARgA/AC4AGAAVAB8AGAAvADsARgAuAA8ACQAmADsAMwAEABUAEgACAPv/GQAZABIAFgAWAA4AGAA/ACQAKgAjACEAKAAnADkAHgAPABwAOQA/ABcALgAMACQAGwAXACYAMAAhABQAIQASAAMAGQAwACkAIAApAB8AMwA2AAUAAAAfAP3/IgAHABUALAAJACcANQAiACMANgAUACYAMQAzACgAIAAHAAQAFQAJAAUAIgAEACoAJgAlABwAGwApAD4ATwBJAC4ASAAlACEAGQAjADQAKwAVAAsACwAIABgAAAArAEMAMAAoAEAAUABEACcABAAIAAgAGQAMACAAMwAvAEcANAAmACkAFQAIAAEAFAAQACMAJQAWABoACAAHADcAKwAXACkALgAkAB4A+P8oADAAKAAWAA0AIQAjAA0AJwAkADUAHgAlAA8AAQAKACEAEgAlAAkACQAeABAAAQAAAAAAMgAUAAkA7//+/wAAAgDy//r/9//8/wAACwABACUACQAYAAQAFQApABoALgA0ADEAIQAiAC0AIQAbADEANQBDAEIARAAhADMAMwA3ABoAIQAbACkAJwAEAAcADgAkABMALwAgACEARQA0ABwAKgAXAAgAGAAyAEMAIgAbADQAJwAwAC4AHgAAABEAAwD8//f/AgD0////7//0//b/CgAHABQAAAD2//j/JQAgACsAIQAbABsAFQAOABkAAAAbADYAGgAqACEAGQANADAAMQA4ABkADAARABYADgAsADAAIwAKACsAGwAMABUAJwA6ADcAFwAlAAkABgAMACkAIwD+/wIA6f8GACMAJgAxADgAKwAuACsAEwAaACEAFwAgAAUAAQARAB0ACAD9//n////5/wAADgD8/wUACwAkAA8AHgAiACgAJAAOACwAHAAuACMADwAsADsAIAArADkAQgBHAFIAUAA5ADgAHQALABYAEAAbABgAKQATAP//DQD9/wAADgAWACQANQAsAB4ALQAkACYAIAAzADcAPAAvACoAKQAoACoAGAAVABkACwAmABYAHwAgADcAIgA/AFkAPgA0ACEAHgATAP7/BQABABAADAAGAA0AFgAhABsAEgAjABkACQAFAA0AKQBAADUAKAAcADYALgA3AC0ADAAFAA0ACwAsAAYADAAIAAMACQAtACIANgASADQABQD///H/8v/9/w8AJgAyAC4AIgA1AEkAMwAsACcAIgAsACkAFQAHABEAFAAHAPP/+f8HABwAKgAZABUAEAABAAUAAQAbABwAJAANAA8AEwAhACkAPwAlABwAMQAhABcAJgAJABsAHQArACwAKwArAC0APQAoAB8A/P8GAAsAHQASAPz/9f8EABsADgAWAB4AOgA1AD0AHgAuADAAIAAfABQAHQAfACsAJAASAAMAJwAJABkAQQA1AD4AMQAlACUAQgAvACQAGQAYACEAKwASAAoABAAXAA0ADAANAA4AKwA7AC4AIAAQACwAKQBBADAAGQAEAA8AFwAjABMAKAAjADIANgAeADEAHAAdABYAIQAZABEADAAAAAcA+P/8/xIAAQD+/wAAEwACAAUAEAD3////8f/w/xUAIAAmACYADgD7/w0AJwAjACcAFQAkADEAJgAQABUADAAkADMAPAA2AC4AJgAxABwAKQAhABkAJAAuACkAJAAZACMALAAcAB4AGQAoADcAPgA/ACoAIwALAA0ADAD5//3/GAAbAB0AHgAdACYAEwAlABgAFgAzAEEANwA1ABsAJQApACUABQD///P/6/8DAB4AGgAPACkAIQAgAC8ALgAkAB0AIQAxACoAPAAzADQALQAnAB0AKAAVACAADgAVABUACwA3ADAAKQAfAB0AIAAmACoAOQBCAEIAQwA+ACUAIQD9//7/EgAmAEQAPgBCABQAGAAPAAAAFAALAB4ALQAlAAgAEQATAA8AGQAMAAsAFAA8ADkAMQAzAC0ALQAZAB4AJQAxABsAAQAJAA4ADwAiAEUAMgAZACsAOwAdACMAIQApAAsAFgApABgAAwAWABMAGgAMAB0AOwAwADcAFAATACAAGwAYACoAIAAnABgAEgADAPr/FwAlABUA/f8GABgAGQAbAA0A/f8KAA8AAAD//wEA9v/8//T/AwAKAB4AFQAdAAwAGQAuAEIAQwA+AEQAQwBAACUAIwA3AEkAOQAkAA0A/f8PABMAFQAaABoAFgD7/yAALwA1AC4AIgAfABoAMwArACIAKgA0ACgAJgAVAAkAFwAaABEA9P8EAP//FQAaACcAGwAfABYAFwAoAC0AHAAXABcAGwAkADgAMAAwAB4AHwAQAAgAAAAEABEADAAIABgAAgARAAAA+//8/wEAAAAPABoAHwAbAB0AKAAWACIAIwAZABoAHQAeAAYACAA0ABAAGQAKAB8AFAAQAAkADwALAAAAFQAZACEAFQAeACMABAAGABUACAD+/w4AJgAcABcADwAGAA0AKgAfAAEADQAcADcANQAbACEAGQALABgAJwAzAEEAKgAdAAgAIAAUAB8AEAAgACwALwAaAAwACAARAB0ACwD7//v//v8GAAsAFgAdAB0ADAAKAAYA8//0//j/+v/t/wkAEgAZAC0AHwAfABgAHgAhABsAGQARACcAHQArACEAAwAYAAgAAAANABMADwAaAAEA+v8AAA4AGAAwACkAIwAvADoARgBAADcALQAcACcAEwAZAPr/8P8IABIAEgARAAsAJQAvADEAIgAeAC4AHQATABcAFwAkADYAIAAdADoALAAnABsADAAdAB0AIAAgACgAGAAQADYALAAbABUAOwAxAEMAOwAmAC8AGwAnABsAMAA1ACkAJgAdACMAKwAfACcALgApAB0ACgAAABIAGAAjABAAFgAYAB4ABAAQAAIA9v/q//j/BAAdACIAFgAdABoAEAAiABYAKAAYAC0AHQA1ABsAKAAoADIAEQAxADwAKQBAAE8AOQBCACsAFAALAAwAGQAhABwAHwARAAUA/v8cABIAAwD5//L/+v8GAA0ACQARAAYAJQBFACUAJwAMAPb//P8aABgAGQAXAA4AGQAcACIANAAkABIAGgAfABcAFgD2/wEADgASABMAGgAmABgAIAAYADUANQA/ACcAHAAAAB0AMAAnAB4AIQAUACQALgAgAAgAFQARABAAHwAQABcAFAARAC0AHgAQAP//9v/w//v/DQD7/+L/9v/3//X/DgAXAAsAHAAaACAAHAAgACsAJgAkABoAHAAWADEAKwArACYAJQAxACAANAAfABcAIgA8ADMALwAzADwAVAA4ADEALAA1ACAAIAAcACUAGgAdACgAHQAkACIAMAArACUAFQAOAA8AEAARABgALQAiACcAFgAiADQAHwAeACwAIgAiADUAMgA0ABoAHQA2AEUAPwAuABsAEQAjACAAIgAqACMAMQAuACEAGAAdACoAIwAPABkAHwAkAC4APQAnABUABwAJAAYAFwAPAAUAEQATABIAJAAqADQAJAAfABMADAAMABYALQA0ACQALgAfACkALwA9ADwAGAAaACQAGAAWAAsAIgAQACAAIQAUACoAJQAVACcAHQAgABAAJgAwAC4AMgA1ACkALgAkABkAIAArACkAHgApACcACAAMAA4AGAALABAABAADABEA/v/2/wcAGwAhACUAFgAQAO7/AQAGABoAAQD8//j/DwAPABYADwAUAAYACwANABsADQAVAB8AGgAdACwALwAsADgAWQBLAEIAOgA2ADMALQAuAB4AGwAYAB8ALgAeAAYAFQAiACMAKQAVABgADwACAPT//f/v/wAAIwAgABkAKgA0AEIAGgAHAA0AFAAfABsAHQAZABMAEQAIAAgA9P8AAAcAGQAhAAAA/v8IABIAHQD3/////f8EABQADwAZABQADAACAA8AFgASAA0ABgAGAAgABgASABsAHwAcAC4AGgARAAkA9//+/xcAGwAUABcAIgAkACwALgA+AEUAKQAlABgADgAfAB4AEgAoABIAFQAlACMAOQAqACcAPgBYAEAAIwAlADYAGAAjACQAGQAbABEACQAGAAgADwD9//n//f/0/wEAFQAeACYAFQAeAAEACwACAPH/AAARACsAMgAvADoAPwAzAC4AQwBNADsAKAApAB0AEgASABwAFAANAAwAGAAnABwAJAAVABIAFgAgABcAEQAiAAoAIgAZADAAQwAtABsAGwAOAAUA/v8JABgAAwAFAAwACQAXACEAFQAUAPz///8CABEAEgAhACAAFwAUACUAJwAkACMAHgAiAB8AKwAiABUACAAMAA8A+//3/wAA/f8SAB0AHAAtADMAKgAuACUANgAxADYAPAAqACMAIgAVABMACAAGAAoAFwAVABkAHwAbABcAJgAkAB8AMAAiACcAIAAKAB8AJwAZAC8AKQAaABkAHwAlABUA//8QAAgAEgAaACEAIAAqABgAFAARABgADgARAAwAIQAhACUAKQAnABoAEwAZAA0A/v8QACAANwA4AB4ADQAJAAgAHQAhAAgABwASACEANwBPAEoARAA8ACwAGgAYAC4ALgAmAC0ACAALAPn/BQAiAAcACgAUAPT/5//8/wYACAAcACUAHgAfAA0AAAADAAkABgAzAB0AIwATACEAHQAJAC0AOAAqABkAAwAJAAgACgALAAMAHAAfABsAAQAfACsAMQAkACUAIQAlABwAJABDACAANAAuACEAGQAMACgAJQAYABoACgAOABkADwAYABkAHQAeAB8APQA0ACsALwAdACQAFgAPAPr/BgAQAA0ABwAYAB4AFwACABAAJQAoABcAEQASAB8AFgAMABMAHAAUABIAEAAdAB0ACQAVABMAFwAGAAUA/f8JABsAFAAQACIAHwAWAAwAIwAqAC0AHAAuACQAQAA+AC4AOAAzADcALAAgACMAIwAmABkAGgAnADYAMAAdACYAKQAkABoALwAsABkACgAWACEAHAAVABYAIQAYABQAGwAKAAMABwAWAAoAHAAhABwAHwAnACYAJgAYABQAHwARAAsAGQAPABoAFgAeADMALwAnACEALAArACwAJQAuAEEANwApABkAFQAPABoAFgAUABUAHAAcABUADwAIAA0AGQAsAB8AKAAoAC0AJQAgACIAGgAPAAYABwAXABgAGgAYAB0AHAAhABUAHQAiACcADQARACAADAALABcAFgAjADAAJQArAB4ALwA8ACkAFgATABAAFQAbAB0AIAAgABkAFAAKABIACgAXACsAGQAsAB4AHwAkACkALQAoADUAJgA7ADUAMQAmABoADQAjACgAFQAjAAwAIQAcABwAKgAqADgAIgAjACQAGQAaABMAJQAoABYAEgASAA8AIgAgABgAIAAVAO//BAARAAMAEgAmAB8AIAATABYAFQAeAAgAHQAtACAAJAAaACgANgA3AB0ADQAgACcAKgApABkAKgAiABYAFwAJABkAKAAYAA4ADQAjABwAMwAsACoAHABDAC4AJQAeACoAPAA/ADQAKAAcADYAIwADAAgACAATAA8ABwANAA0AAgANAAgAEAASABQAJgAaACIAHwAhACUAEgAJABgAEwAlACMAFQAVABIAFQD4/wMAGAAYACgAHAAJAA8AHAAqACgAEwASABIAIwAfAA4AFQAdAC0AKgAyADAAIQAXABIADgAKAAAAAwAbACgAJAAoACkAKwAfAA0AKAAZAB4ALQBCAEUAOAA1ACkAIQAMAAsAKQApAC4ALAAmACAAEAAqAC4AKwAbACkAGgAxACcAFQAhABwAIwAlACcAKwAnACAADwAHABsAJAAvAC0AHwAxACcAHQAmABUAEAAQAA8AFAD8/xUAHQAjACcAGgAjACQAMwAjACMAKAAnADgAJwAbACcAMgAxACMAKQAYABIAGwAgACIAHQANAB4AFQAoAC8AJAAeAC0ALAAyACAALAAsAC0AGAAhAC0AJAAjABMAHQApACwAIwAZABQAFAAZAB4AFAATABgAHQATACMAJwAPACIAIgArABoALgAdABgAAQAXABQAHQAKAAcAEwAbABgAIgAbAB4AJwAiACUAJQAdABoAEgAiACMAHAAfACcACgAfAB4ACwAeABwAGwAaABcAFwALACAAIwAtACIAIQAlABYAKQArACgAHwAgABUAAAD+/wwACwAFAAAACwALAP7/IwAnABsAGgARABsAHwAcABgAGQAmABYAGwAMABcAEgAMAB0AEQAFAA0AGQAQABoALAAZACEAHwASABwAHQAMABcAJQAtAC4ALAA9ADgASwA+AD8AQgBDAD4ALQArAB0AGAASACMAHQAPACEAJwA+ADUALAAhABsAFAAYACUAJwANABUAGQAPAB4AGQAVAB8AHgAXACkAMAAjACUAKAAzABoAEQAnACQALQAiACUAIgAYABkAFwAhABwAEgAGABIACgASABEAHQANAAgADQACABYA+f/9/+f/3//y//v/CwALABAAIgAfACYALQAsACIAEQAOABUAFwAVABcAFAASABEADQAYABsAAAAAAAcAGwAfACoAIgAkAB4AGQANAA0AEQALABMACQAGAAQAEAAWABkAHAASABwAIwAdABsAHQA0ABEADQALAAwAHQAUABgALgAnADMAHgAhABMAFAD6/xQAGQAkACwAIgAcABsAJgAjABkAJQAeABEAIQAVAB4AGQAIACAAJgAkABEAGAAUACAAHQAJAAwA/v8JAAsACQAUABoAFgATABUAEgAkABUAGgATABIACwARAAoAGgAjABgAHQAeACcADwAYAC0AIgAwADAALAAuAC4AKgAnACgAFgAFAAkACAADAAMADgAMABgAHAAcABwAFQAkACEAHQAlACcAJQAeACgALQAqAB8AIAAgAB4AIQAHABIAEgAbAAwAEwAWABAAJQAfABkAJgAdACAAIAArACQAHAA5ADAAKgApACgAJQATACIAHgAhAC8AHwAfABgAIwAuACMALAAsACcALAAbAB0AJgAwADYAJQAgAB8AGgAIABcADgARACUAHwAiACcADgAOAA8AFAAGAAoADAATACAAEgAhADcAPgAwAC0ALgAtADMAPAA0ADoAOAAhACEAHQAXACAAIgAhABQADAALACkAIQA1ADkALwAiACQALQAnADQAMQAmAB8AGwAcABwAGwAmACoALQAUABsAEwAPABcAHgAeACIAHgAuAC0AHwApADQAHwAdABwAFwAJAAwAHwAXACkAOAAtABoAJQAgABcAKwAgACEAIgAqACwAHQAXAAkACwAAAAoACAALABcAHAAdAB0AHwAfABYA/P/9/wsAHQApACAAEgAoACcAFwAjACwALAAkAB4AJAAlADcAPAAzADQANgAyADEALAAtACYAGAALABkAIAAkACcALgAzACMAKQAoAA8AHgAjACQALQAjACAAGQAVAA8AIwAhABoAIwAkACkAHAAgAA4AFgAeABcAHQAKACUAHQAOAAkAEgAMAA4AEAASACEAKgAZACgAGQAeAB4AIgAYACYAJAAgABYAEAANACQAJAAdABYAFgAPABAAFAAUAA0AEAAOAAsACgD6//n/AAAHAAsACAAXABkAEwASACAAHgA0ACEAJQAgACIAHgAbABYAKAAsABIAFgAXABwAEQAbABsAHwAmACEAHQAZABoAKgA8AC0AJAApACEAJAAgAB8AEAAdAAwABAAPABEAFAAdADMALwA5ADoAOgApACMAIgAnABsAGAAWABsAHAAbAB4AJAAfABwAJgAYAA0AEgACAA0AGgAUABsAGwAdABcAHgApAC4AIwAeABUAHwAZAA4AHgAiABYAJwAnABsAFQAhABcAFQASABcALAAaAB4AIQAWACAAJAAuAD8APQAzADQAOwAeACYAJwAmACIAIAAiACUAJgArACgAJQAfACIAKAAtAC8AKgAvAC8AIgAQABAAGQAgACEAEgASABwAGgAYABgADgAHAAwAGAAUAAsACgASABsAIAAgABwAGAAXABgADgAMABcAJgAqACwALAAnADoALwAhAB0AIQAnACIAIgAcABgADwAWABgAFAAMAA4AIAAjACAANgAwACgAKgA1ACUAFQAWABQAFAAUAAgA/P/5/wIACwALAAAADAAHABYAKAAZACoALwARABQAGgAOAAQAIQAdACsAFQAXAAgAFQAVABUAGgAVACIALgAmABkADAD7//v/AAD/////HAAeACUAGgAkABoAFAAeAB0AHAAjACQAKAAfACMAKQAmAB0ADAAKAAoAEAAUAB4AFwAbAB0AIwAbACkAHQAiAA4AHgATACYAFgAVAA4AEAAMAAwAGAALABMAEQAZABQAEgAVAC0AIAAcACIAHAAoACIAGAAYACMAHAAHAAoADQAkAB4AJQAhAAoADQAKABkAIgAdAB8ALAA4ADIAJgAdABwAEgAXABcAGwAfACcAIAAsACQAMgAjACEAGgATAB0AHAAeACUAJgAtACQAPQAtACMAFQAmABMAHQAdACMAKAAYAA4ADgAVABUABQAFAA0ABgADABQAJQAhACUAJwAvAC8AKgAnACMAIQAdABcAEgAbAC4AJgAjACgAIwAeABEAHAAaACEAIwAnACUAGQAWAA4AAQAEAP7/AAAAABEAGQAkAA8AFwAiACgADwAUABkAEgATAB8AEQAGABEAIQAoACEAIQAtACwANgAzACoAHwAeAB4AGwAaACEAGAATABUAEwATAB0AIgASABwAJAAgAB4AGQAtAC8ALAAcABoADgAUAB4ADQAOAA0AGAAPABMAFwANABMAMAAmABoAGwAkACAAJwAzACUAJAAlABUAEgANAB0AJwAhACYAGgAbABcAEAAbABcAIwAXABAAGAAiAB0AJwAqACgAKgAbAB8ADAAJABEAEAAeAA8AFQAcABoAHgATABAAAQALABgAEAAdACUAIwAbACkAJQAeACkAGgAgACYAGgAaAB4AGwAjAC4AKAAyADwALQAaAB0AGgAPABoAGAAWAB0AJAAqABsAFwATAAUACwAPABAAGgAeACMAGgAYABEAEQD6/wQACgAKAAoADQAWAC4AKQAWABoAIQAmACkADQANACAAKQAbABYAEwAPABwAGwAXAAoA+v8GAB4AFAAtAB0AJAATACEAIAAfACQAIwAWABgAMQApACUAMAArACUAMwAyACcAJQAzACgAPgAvAB4AIQAiACAAIAAgACsAKQA4ACYAJgAiABsAHwARAAUA/f8MABgAGgAOAAsABQAYABUAGwAWAAgAGwAhACIALQAgABQADAAbABoADAAYABkAGAAcACcAEwAUABoAGQAnACkAHgAeAC0AKgAZACIAMAAWACEAGQARACgAKgAuABgAIgASABoAGQASABUAEgATAAwACQAPABYAEgAcACUAJgAnAB4AFQAlABwAFgAcAA4ADwAUABUAGwAZABEAIAAmAB8AJgAoACMAIwAZABYAFAANAB4AJQAlABgAIAAmAC8AGgApACwAIwAhACcAKAAtAC8AKwAoACoAJwAtAC4AKAAgABgAIAAhABsAGQAPABEAFQATABEAFgANABUAGwAQACEAHwAiACgAIQAlACgAHAAkACAAHgAeACUAJgAnADEALAAqADMAGwAaAB4AIQAbACAAGgAGAAYAEAAYACEAHwAkACEAIwAdABcAGwAeACEAIQAXAA8AEwAbAAwADQAMABYAHQASABsADAAXAB8AHwAeACUAHwAdAB0AHQAnACMAJQAbAB0AFwAbACMAFgAgACUAKgAyACYAIgAlAA4AHAAlACgAIwAmACgALgA+ACYAMAAlACkAJQAlAC0ANQAkABQAGgAYABsAEwABAAwAEwAJACAAFwAYABIAJQAYACUAKgAtACkAGwAjABoAHQAWABcAJwAlADIAKQA3ACAAIAAUABsAIgAXABcAHQAmACgAMAAsACIALAAlACkAHgAjADEAEQD//xQAFAAUAB0AIwAsACMAGgAeACkAJgAlACIAJAAsACYAEAAWAB8AHgAtACkAJwAcACsALwAkAC0AJQAgAC0AJgArACYAJwAQAA8ABwAQABIAGAAiACAAJAAiAC8ANwAiACMAKgA4AC4AIwAnAB0AIgATABYAHAAwACMAHgAcACsANgA7ADUALwAYABsAJwA2ACwAIQAqACMAKQAuACgAIwAjACYAIgASABAAEwAaACQAHgAlADQAKAAlACMAKgAhACgAMAApACMAJgAgACAAFgANACAAJgAmAB8AIgARABEACgAWABwAIgAZABkAIAAXAAsAHwAkACUAGAApACcAIQAZADAAHwAoACMAGwAcABMAHQARAAwADgAYABsADwAGAAwAIwAcACIAHAAdABcADAATABcAGAAvADgAOwAwAB4AIAAcACIAKwAcACEAMwAoABsADgATABAACQAMABIAIAArACcAKwAiACQAGQAmACEAGgAeACIAJwAxAB8AIwAfACQAHgAfACYAJgAWAA8ACQASAA4AEQAPAA8AFQAfAB4AIwAVABQAFAAXABMAHAAeABsAHgAeAC4AJQAiABoAIQAvACIAGgAbAB8AHAAqADQAMQAuACMAHAAfABgAFQAdABQAGwAfACAAKgArACYAIgAnACwAIQARABEADwASABkAEQATAAUAAAAHAAcAAwANAA0ADQAJABAABgAbACEAGwAZABgAJwAoADAAEQAVABMAEQAdACQALwApACoAJgAeAA4AIQApACQAHgAvACgAKgAdABcAJgAyAC8AKwAfABoAIgAbAB4AGwAXACYAIwAfABAADgAfAB4AFAAZABsAHgAcAAkAFQAjAC8AKQAoACMAHQAaACgAIAAhACkAHwASAAkABQAMABcAFQAbACEAKQAlACkAJAAcABgAIQApACcAKwAXABUAFwAdACQAJwAiACYAJAAdAB8AGAAdAB4AGQAgABsAHAAYABsAFQAaABIADwAJAA4ADgAUACUAHwAuABwAJgAlAB0AGQARAB0AIAArACQAFwAaACIAJAAbACMAIQAhACcAIgAYABYAFAAWAAwADAATABEAFwAnAB8AHgAWAB8AFgASAA4ABgAYABcAHAAhACMAJAAVABcAIQAlABUAKAAdACgAJAAqACUAKQA3AC4AJAAdABgAHQAgABkAJwAWABYAJwAjABEAGwAYABEAEwAWABQAGwAQABsAIgApAC4AJQAWABoAGAANACAAIQAjACcAIAAjADIAKgAuAC0APQAyACkAJgAtACoAKgAvACYALAAjACMAGQAeABkAIQAZABYAJQAeACcAIwAeABgAGgASAAsAEwALABIAGgAuACcAHQAnACkALAAnACYAKAApACIAGwAoACIAIQAZAB0AHAAcABEAHQAkAA4AFwAUABQAFgAkACYAIAAcAB8AHQAeABMAJAAkAC8AKQAmAC0AHQAgACcAHgAlABoAHwAcAAwABwAGAAkAHAAjABwAJAAWABsAGQAeACAAIgAoACoAKQAjABoADAAJABIAGgAWABcAGgAZABsAKwAhABsAIQAlABMAHAAdABsAFAAXACMAGQAeABwAGAAhABwAFAAMABgAEwAOABgAHQAnACoAJAAqACMAHgAhACEAKQAuADEALwArACoAEgAWACUAIgAaABoAGgAPABIAFwAHABcAAgAPAA4AEgAbACUAJgAuACMAIgAlADIALQApACkAKQAwACIAFwAQAAAABAATABEACAAcABwAGwAVACEAGwAiACwAJwAnAB4AIQAiACgAIAAcABgAJQAiABwAIwAeACAAIAAYABEAFAAUAB0AIAAgACoAHQAdABwAGgAiAC0AJgAcACIAGgAYAB0AHQAUACIAGwAbAB4AHgAXABcAIwAeACsAJQAkABgAIAAfACMAIAAgACMALAApAEAAKAAgAB8AJgAdACQAHgAvAC4AOwAxADgAHgAfABIAFgAXABQAEwATABMAGwAiABwAJwAnAB8AJQAlACsAFAAXABgAEwARAA4AGAAcABkADgAAAP//AQAJABUAHwAYABgAEwAMAAEADAATAB8AFwAaAB0AHwAfABwAEAAYABQAFQAXABkAFQAWABUAGgAZABgAHAAUAAwAEgAdAB0AJgAbACIAKgAXABkAEQD9/wMAEgAUABQAGgAnACYAKwAvABkAEwAVAA8AFAAXABEAHQAVACEAHgAWABkAJAArACwAKAAmAB8AJAApACgAJwAVABQAGgAYABsAJAAhACUAIwAnACYAHwAWABYAFgAdAB4AIQAhABkAHQAZABkAJgAjACYALAAiACMAIQAfACQAJgAoAB8AIAAcABgAFgAVACUAIQAaAB8AIAAnABsAKQAnACAAJAAsACQAHQAeABcAIAAaABYAHwAYABMAGgASAB0ACgD9/wQAGAARAB4AEgAVABgAHAAcABQAHwAhABwAFwAYACEAJgAhACIAGAAQAAIAEwAfABEAGQAUABQAFAALABcAHgAkABsAEwAWAAoAFQAVACcAIAAmABYAHwAaAB0AEAAbAB0AHQAkABEAKAAdAC8AKAAmABgAGwARACAAHQALABkAIgAdAB8AGAAcACEALwAzAC0AKAAmACAAJAAcACEAIgAdAA4AEQAaABoAFQAZAAoAIAAQABsAGwAVABcAJAAwACoAGwAbABkAHAATABEACgAJABMADwAdAB8AHQAdACQAHwAiABsAHgAnABgAEQAYAB8AJAAiABMAFwAUABsAHAAqACYAHwAhABYAGQAXACIAFwAUABEABAAXAB4AJwAsACcAGgAeACYAFwAQABcAJAAtAC0AKwAgACIAJgAiACYALwAgACYAKQAmACcAMAAnACUAFgAaABMADgATACEAJQAmACgAKAAgACQAGQAfABwAFwAaABkAFwAcACQAHAAhAC0ALgAaABwAKwAlACEAKgAdABwAGAAZABEADwAbAB0AKgAsACUAHAA0ADAANQAuACwAJwApACgAHQAZACEAGgAiACYAHAAoABwAEQAYABsAFQARAB8AHAATABEAEgAbABcAEAASABAAGgAhABoACwAJAA4ACwAbABMAEQAZABUAEQAMABkAGgAiACAAHgAUABwAHgAZACAAHAAYACUAGgAOABkAGwAYABYAIAAlACUAKgAoABcAHgAeACUAJwArAB8AFwAfACYAHgAYACAAHwAgABcAGQAkACcAKQApACYAJgAfAB4AJgAZAB8AHAAgACIAHQAYABcAEwAQABEAGQAlABgAGgAjACIAGgAhAB8AJAAjAB4ADgAaABcAHgAhACUAIwAgABgAJQApACQALgAgABcAFgAXAB8AIAAdABAAGQAdACEAHgApACIAHAAlACoAIQAlACQAEQAhAB0AGwAZABAAEgAWABoAGwAcABkAGAAaACcAHAAoADEAKwAtACoAMAA1ADAALQAvAB0AKAArAB4AHAAdACoAJAAgABwAEQALABQAIwAgACgAIQArACMAIgAZACMAIQAjACMAIgAWABQAEgAdACQAHAAiABsAFwAVABEACgAUABwAEQAbABsAEAARABMAGQAaABsAIAAdABwADwAPAAQADgAVABYAGwAXABcAGQAZABMABwAKABEAGgAcACcALwAsADAAMgAtACEAHwAWABUAGQAeAB4AIgAbABAADQAPABkAJQAZABUAHAAdAB4AGQAfABgAGQAUABcAGwAgACMAHgAoACgANAA1ACMAJQAVABoAFgAeACMAIQAYABEAEwAYABwAFwAYABkAFwAYAB4AHAAdACAAEQARABYAFAALAA4AFQAfACMAKQApACMAIQAkAB4AIAAkACkALwAuAC8AIwAkACUAJAAfACoAKgAuACIAHgAlACkAJwAgACEAIAAZACAAHQAkAB0AGgAgABcAHAAfABoAJwAqACgAKwApACQAGQATACAAIAAcAB8AJgAkACQAIQAjACUAKgAgACIAHwAoAB0AGgAdABYAHAAkAC0AMQAmAB0AEgAlABkAIgAUABAAFAARAA8AGgAaACQAIgAfABwAGAAbABsAFgAdACcAJAAgACAAJgAbACIAJgAgABQAGAAhAB4AHgAgACcAIAAtACMAIgAhABYAIAAZABgAGQAVACIAFAAVABYACwAQABcAHQAYABwAIAAiAC0AKQAiACIAGwAVABUAIAAWACUAJAAlAB4AIAAeACAAHgAmACAAJQAlAC4AJwAOABQAGQAXABMAGQAqACoAJgAhABgAIwAjADIALwAjACEAIAAkACcAJwAsACYALAAtACoAJgAkACIAJwArACEAHwAUABQAFwAaAB4AIwAoAB4AGwAPAB0AGQAjACcAIQAaABwADQAPAA0AGwAYABkAHwAgACIAJQAoACUAHwAZABMAEwAUAB0AFAAdABcAFwAjACUAKAAZABMADwAVAB4AJgAmACUAHgAuACsAKAAZABsAJgAXACIAJgAgAB0AIAAeAB8AIAAfACAAJQAgACQAHQAnAB8AHgAbACMAGAAZACEAIwAgACAAHwAgAB0AIAAmACEAJwAnADEAMwAqACAAHQAfAB4AJAAiACYAJAAlACIAIAAbACEAIQAYACIAHgAlAB8AHgAZABsAGAAeAB8AGgAfABkAFwAMABIADAAfABwAEwATABUAEgARAA0AEAAMABEAFAAQACEAGQAPABkAHAAdAB0AIAAlABgAFwAcABUAFwAcACMAIQAfAB8AIgAhACUAJgAkABkAIQAgABsAFQAZABsAIAAZACMAKAAmAB0AIgApACgAHwAYABoAIQAlACcAIAAuAC0ALQAgABoAKAAsACkAJgAnACEAIwAmABkADwAUABYAGAAgABsAGgAUABsAHwAhABwAIAAgABUAHAAYABkAGgATABoAJAAlACQAJwAlACMAHgAkACcAHwAVABIAHQAaABIAEAAQAAsAFwATABYAIQAaAB4AIgAZABkAEAASAB4AJQAaABgAGwAZAB8AIAAZAB0AHQArACYAIwAhAB8AKAAaACYAJwAiABwAHQAcACUAJwAhACYAIgAbACAAFQAZACEAGgAZABwAFQAMABkAIgAjABwAGgAdACkAJAAlACcAKwAtADIAIwAaAC0AGwAqACkAKgAdABoAHAAOABgAGwAgACIALAAmACEAHQAgABsAIQAjACcALgAqACgAHQAgAB0AFgAZABkAGQAlACwALwAnADMALQAwACcAHAAXABwAKgAwAC8AKwAkAB8AIAAbACUAFwAWABQAGwAWAA0AEgAZABsAEwANABYAEgARABcAJQAnABwAHAAXABsAFQAXABgAHwAiACYAKwAdABoAHAAiACkAHQAXABoAGgAZABsAHQATABMAHAAdABIAHQAjADAAMAAvACwAIQAiACcAJgAeACcAMgAlACIAIgAWABMAFQAWABoAGgAlACcAHgATABgAGQAdABYAFwAYACMAFQAbABoAHQAcAA8ADAAXABgAFwAWABkAHgAhACcAJQAnACgAHwAhAB0AJQAlACcAIQAsACQAKwArAC0AJwAuACUAKAAZAB4AGgAhACQALgApACoAGgAbACEAKAAqACsALQAkACMAKwAhACEAFgARABoAIAAgABwAJQAhAB4AHAAYACMAIAAoAC0AJwAeACEALAAYABwAGgAiACAAIwAhACEAJwAbAA4AGAAXABkAEgAZAB8AHQAhACcAIgAlAB8AIAAgACMAGwAeAB4AHwAaAB0AHAAbABoAHQAUABwAJgAlACIAIAAeACgAHQAhACIAJAAfACIAIQAiAB8AKgAwADMALAAlACsAJwAfABsAGgAdABsAGwAZABcAFgAXABoAKAAmABwALAAzADQAMwAvAC0AIwAkABwAHwAcACoAKAAtACcAJQAoAC8AKwAnACIAIgApACcAJgApACQAHQAVABcAEQAaAB8AGAAQABIAGQAUABsAGAARABAAGQAgAA8AEQAYABsAFQALABEAGQAcABoAGgAUAB0AFAAeAB8AHgAOAAoAFwAlABsAIQAmAB8AIAAkABwAJQAYABwAIgAeABoAFgATACMAIQAoACEAGgAUABcAGwAaACQALAAnACYAJAAeABUAGAAVABoAIgAWABYAFwAaACAAHAAgACAAKQAoACcAIgAfACAAKQAlABsAGAASABcAFgAVABcAFwAVABsAFQAcACMAGwAfABkAHQAYABQADQARABUAHwAaABgAFgALABQAGQAhACoAHwAjACcAJgAgAB0AFwAaACMAMAAgACYAHgAcACAAIAAhAB8AIwAhABwAJgAoACkAKAAhACUAJAAdACMAHwAcABoAFgATABcAGgAeABwAIAAbACAAIgAjABwAHQAaABgAIAAhACEAHgAiABsAHQARAAsAFgAdABkAHQAWAB4AJgAqACIAHgAVAB4AHAAdABsAGAAjACcAIQAnACIAGwAfACUAHwAfABcAHwAbABUAEgAWABQAGwAZABUAGgAaACUALAAqACEAFgAaABcAFgAlACcAHgAZAB8AGQAdABwAIQAiACcAIAAcACQALgAjACIAIQAdAB8AIQAkABQAHAATABkADwAVABUAHQAaABQAHwAfAB8AIgAeABwAHAAdACIAHgAjACQAJQAlACAAGQAgACUAJwAoACYAIAAeACIAIgAkAB8AIwAkABwAJgAqACsAHAAbABoAGwAbACcAHwAdABwAHAAYABcAIAAoACMAJwArACAAFAAbABYACQALAAwAFwAdABkAGAAgAB8AGQAWABoAFwAYABgAGQAYACEAGgARABMAHQAfABQAGgAcABgAHAAhAB4AJAApACoAHwAjAB0AGQAfABwAHgAjACcAIwArACkAIwAsACMAKAAiABkAHwAkACIAJAAlACgAJwAmACoAJAArACMAIgApACMAHQAiACQAHgAfABoADwAZABcAFgAUABcAJwAuACMAIQApACcAIgAjACoAJQAkABkAHQAXAB4AGAAcABsAIAAeACIAJQAeACAAIAAfAB4AJgAcABgAHQAgAB8AKAArACQAJAAfAB8AJgAhAB8AHQAgACIAJwApACMAHwArACoALwApACwAHQAaABwAGwAYABkAIgAtACcAJgAmACQAKQAqACEAFgAPAA0ADAAUAA0AFgAXABoAGQAWABkAFAAWABMAHAAhAB8AIAAgACYAIwAoACAAHwAYACEAGgAYABgAIgAaABcAJAAaABgAGAAbAB0AGgAXABcAGQAZAB4AJQAdAB8AHQAfAB4AIAAhABsAHQAiABgAGAAZABkAHAAbAB0AIQAbABsAGQAZAB0AIQAkAB4AGwAbABsAIgAiACMAHwAiACUAIgAfACEAIgAjAB4AGQAUACEAHAAhAB0AIAAbACEAGwAaABcAJAAiAB8AGAAYAB8AFQAYAB8AJAAcACEAHwAgACIAJAAgACAAHwAlACAAJAAqACsAKgAkACMAKQAnACEAHwAeABYAIAAkACIAKwAoACYALAAsAC0AJQAjACYAIwAdAB0AHwAcACAAIQAkACEAHgAdACIAIAAhAB0AHwAhABsAGgAeABoAFQAaAB0AIQAcACMAIAAhACIAIwAcACAAGgAfACAAJwAiABoAGwAZACIAHwAqACcAIAAcACIAJAAlACAAGQAcAB4AGgAcACEAHgAeACYALAAkABwAIQAfACgAGQAYABkAHQAjACIAHgAmAB4AHgAcABIAHwAbABwAHAAZACgAKwAhAB0AGAAbABsAHwAoACQAIwAhAB8AIgAcAB8AHwAjACAAHwAgAB0AHgAcACEAKgAhAB8AKwApACYAHQAfACQAHQARAA8ADgAQABQADwAaAB0AFgAZABwAIwAjAB4AHQAXAB8AHgAgABUAFQASACEAGwAXABgAHAAZABsAIgAiAB0AGwAYAB0AGwAZAB4AIgAiACMAJQAjACYAHwAjACMAHgAkACEAJgAeACIAKgAhACEAIAAYABMAEgAQABYAGgAhAB8AJQAcACkAHgAfABQAGQAcABwAIwAfACQAKAAgABUADgAJAAYABAACAAEAAQAAAAAAAAAAAAAAAAAAAAAAAAAAAAAAAAAAAAAAAAAAAAAAAAAAAAAAAAAAAAAAAAAAAAAAAAAAAAAAAAAAAAAAAAAAAAAAAAAAAAAAAAAAAAAAAAAAAAAAAAAAAAAAAAAAAAAAAAAAAAAAAAAAAAAAAAAAAAAAAAAAAAAAAAAAAAAAAAAAAAAAAAAAAAAAAAAAAAAAAAAAAAAAAAAAAAAAAAAAAAAAAAAAAAAAAAAAAAAAAAAAAAAAAAAAAAAAAAAAAAAAAAAAAAAAAAAAAAAAAAAAAAAAAAAAAAAAAAAAAAAAAAAAAAAAAAAAAAAAAAAAAAAAAAAAAAAAAAAAAAAAAAAAAAAAAAAAAAAAAAAAAAAAAAAAAAAAAAAAAAAAAAAAAAAAAAAAAAAAAAAAAAAAAAAAAAAAAAAAAAAAAAAAAAAAAAAAAAAAAAAAAAAAAAAAAAAAAAAAAAAAAAAAAAAAAAAAAAAAAAAAAAAAAAAAAAAAAAAAAAAAAAAAAAAAAAAAAAAAAAAAAAAAAAAAAAAAAAAAAAAAAAAAAAAAAAAAAAAAAAAAAAAAAAAAAAAAAAAAAAAAAAAAAAAAAAAAAAAAAAAAAAAAAAAAAAAAAAAAAAAAAAAAAAAAAAAAAAAAAAAAAAAAAAAAAAAAAAAAAAAAAAAAAAAAAAAAAAAAAAAAAAAAAAAAAAAAAAAAAAAAAAAAAAAAAAAAAAAAAAAAAAAAAAAAAAAAAAAAAAAAAAAAAAAAAAAAAAAAAAAAAAAAAAAAAAAAAAAAAAAAAAAAAAAAAAAAAAAAAAAAAAAAAAAAAAAAAAAAAAAAAAAAAAAAAAAAAAAAAAAAAAAAAAAAAAAAAAAAAAAAAAAAAAAAAAAAAAAAAAAAAAAAAAAAAAAAAAAAAAAAAAAAAAAAAAAAAAAAAAAAAAAAAAAAAAAAAAAAAAAAAAAAAAAAAAAAAAAAAAAAAAAAAAAAAAAAAAAAAAAAAAAAAAAAAAAAAAAAAAAAAAAAAAAAAAAAAAAAAAAAAAAAAAAAAAAAAAAAAAAAAAAAAAAAAAAAAAAAAAAAAAAAAAAAAAAAAAAAAAAAAAAAAAAAAAAAAAAAAAAAAAAAAAAAAAAAAAAAAAAAAAAAAAAAAAAAAAAAAAAAAAAAAAAAAAAAAAAAAAAAAAAAAAAAAAAAAAAAAAAAAAAAAAAAAAAAAAAAAAAAAAAAAAAAAAAAAAAAAAAAAAAAAAAAAAAAAAAAAAAAAAAAAAAAAAAAAAAAAAAAAAAAAAAAAAAAAAAAAAAAAAAAAAAAAAAAAAAAAAAAAAAAAAAAAAAAAAAAAAAAAAAAAAAAAAAAAAAAAAAAAAAAAAAAAAAAAAAAAAAAAAAAAAAAAAAAAAAAAAAAAAAAAAAAAAAAAAAAAAAAAAAAAAAAAAAAAAAAAAAAAAAAAAAAAAAAAAAAAAAAAAAAAAAAAAAAAAAAAAAAAAAAAAAAAAAAAAAAAAAAAAAAAAAAAAAAAAAAAAAAAAAAAAAAAAAAAAAAAAAAAAAAAAAAAAAAAAAAAAAAAAAAAAAAAAAAAAAAAAAAAAAAAAAAAAAAAAAAAAAAAAAAAAAAAAAAAAAAAAAAAAAAAAAAAAAAAAAAAAAAAAAAAAAAAAAAAAAAAAAAAAAAAAAAAAAAAAAAAAAAAAAAAAAAAAAAAAAAAAAAAAAAAAAAAAAAAAAAAAAAAAAAAAAAAAAAAAAAAAAAAAAAAAAAAAAAAAAAAAAAAAAAAAAAAAAAAAAAAAAAAAAAAAAAAAAAAAAAAAAAAAAAAAAAAAAAAAAAAAAAAAAAAAAAAAAAAAAAAAAAAAAAAAAAAAAAAAAAAAAAAAAAAAAAAAAAAAAAAAAAAAAAAAAAAAAAAAAAAAAAAAAAAAAAAAAAAAAAAAAAAAAAAAAAAAAAAAAAAAAAAAAAAAAAAAAAAAAAAAAAAAAAAAAAAAAAAAAAAAAAAAAAAAAAAAAAAAAAAAAAAAAAAAAAAAAAAAAAAAAAAAAAAAAAAAAAAAAAAAAAAAAAAAAAAAAAAAAAAAAAAAAAAAAAAAAAAAAAAAAAAAAAAAAAAAAAAAAAAAAAAAAAAAAAAAAAAAAAAAAAAAAAAAAAAAAAAAAAAAAAAAAAAAAAAAAAAAAAAAAAAAAAAAAAAAAAAAAAAAAAAAAAAAAAAAAAAAAAAAAAAAAAAAAAAAAAAAAAAAAAAAAAAAAAAAAAAAAAAAAAAAAAAAAAAAAAAAAAAAAAAAAAAAAAAAAAAAAAAAAAAAAAAAAAAAAAAAAAAAAAAAAAAAAAAAAAAAAAAAAAAAAAAAAAAAAAAAAAAAAAAAAAAAAAAAAAAAAAAAAAAAAAAAAAAAAAAAAAAAAAAAAAAAAAAAAAAAAAAAAAAAAAAAAAAAAAAAAAAAAAAAAAAAAAAAAAAAAAAAAAAAAAAAAAAAAAAAAAAAAAAAAAAAAAAAAAAAAAAAAAAAAAAAAAAAAAAAAAAAAAAAAAAAAAAAAAAAAAAAAAAAAAAAAAAAAAAAAAAAAAAAAAAAAAAAAAAAAAAAAAAAAAAAAAAAAAAAAAAAAAAAAAAAAAAAAAAAAAAAAAAAAAAAAAAAAAAAAAAAAAAAAAAAAAAAAAAAAAAAAAAAAAAAAAAAAAAAAAAAAAAAAAAAAAAAAAAAAAAAAAAAAAAAAAAAAAAAAAAAAAAAAAAAAAAAAAAAAAAAAAAAAAAAAAAAAAAAAAAAAAAAAAAAAAAAAAAAAAAAAAAAAAAAAAAAAAAAAAAAAAAAAAAAAAAAAAAAAAAAAAAAAAAAAAAAAAAAAAAAAAAAAAAAAAAAAAAAAAAAAAAAAAAAAAAAAAAAAAAAAAAAAAAAAAAAAAAAAAAAAAAAAAAAAAAAAAAAAAAAAAAAAAAAAAAAAAAAAAAAAAAAAAAAAAAAAAAAAAAAAAAAAAAAAAAAAAAAAAAAAAAAAAAAAAAAAAAAAAAAAAAAAAAAAAAAAAAAAAAAAAAAAAAAAAAAAAAAAAAAAAAAAAAAAAAAAAAAAAAAAAAAAAAAAAAAAAAAAAAAAAAAAAAAAAAAAAAAAAAAAAAAAAAAAAAAAAAAAAAAAAAAAAAAAAAAAAAAAAAAAAAAAAAAAAAAAAAAAAAAAAAAAAAAAAAAAAAAAAAAAAAAAAAAAAAAAAAAAAAAAAAAAAAAAAAAAAAAAAAAAAAAAAAAAAAAAAAAAAAAAAAAAAAAAAAAAAAAAAAAAAAAAAAAAAAAAAAAAAAAAAAAAAAAAAAAAAAAAAAAAAAAAAAAAAAAAAAAAAAAAAAAAAAAAAAAAAAAAAAAAAAAAAAAAAAAAAAAAAAAAAAAAAAAAAAAAAAAAAAAAAAAAAAAAAAAAAAAAAAAAAAAAAAAAAAAAAAAAAAAAAAAAAAAAAAAAAAAAAAAAAAAAAAAAAAAAAAAAAAAAAAAAAAAAAAAAAAAAAAAAAAAAAAAAAAAAAAAAAAAAAAAAAAAAAAAAAAAAAAAAAAAAAAAAAAAAAAAAAAAAAAAAAAAAAAAAAAAAAAAAAAAAAAAAAAAAAAAAAAAAAAAAAAAAAAAAAAAAAAAAAAAAAAAAAAAAAAAAAAAAAAAAAAAAAAAAAAAAAAAAAAAAAAAAAAAAAAAAAAAAAAAAAAAAAAAAAAAAAAAAAAAAAAAAAAAAAAAAAAAAAAAAAAAAAAAAAAAAAAAAAAAAAAAAAAAAAAAAAAAAAAAAAAAAAAAAAAAAAAAAAAAAAAAAAAAAAAAAAAAAAAAAAAAAAAAAAAAAAAAAAAAAAAAAAAAAAAAAAAAAAAAAAAAAAAAAAAAAAAAAAAAAAAAAAAAAAAAAAAAAAAAAAAAAAAAAAAAAAAAAAAAAAAAAAAAAAAAAAAAAAAAAAAAAAAAAAAAAAAAAAAAAAAAAAAAAAAAAAAAAAAAAAAAAAAAAAAAAAAAAAAAAAAAAAAAAAAAAAAAAAAAAAAAAAAAAAAAAAAAAAAAAAAAAAAAAAAAAAAAAAAAAAAAAAAAAAAAAAAAAAAAAAAAAAAAAAAAAAAAAAAAAAAAAAAAAAAAAAAAAAAAAAAAAAAAAAAAAAAAAAAAAAAAAAAAAAAAAAAAAAAAAAAAAAAAAAAAAAAAAAAAAAAAAAAAAAAAAAAAAAAAAAAAAAAAAAAAAAAAAAAAAAAAAAAAAAAAAAAAAAAAAAAAAAAAAAAAAAAAAAAAAAAAAAAAAAAAAAAAAAAAAAAAAAAAAAAAAAAAAAAAAAAAAAAAAAAAAAAAAAAAAAAAAAAAAAAAAAAAAAAAAAAAAAAAAAAAAAAAAAAAAAAAAAAAAAAAAAAAAAAAAAAAAAAAAAAAAAAAAAAAAAAAAAAAAAAAAAAAAAAAAAAAAAAAAAAAAAAAAAAAAAAAAAAAAAAAAAAAAAAAAAAAAAAAAAAAAAAAAAAAAAAAAAAAAAAAAAAAAAAAAAAAAAAAAAAAAAAAAAAAAAAAAAAAAAAAAAAAAAAAAAAAAAAAAAAAAAAAAAAAAAAAAAAAAAAAAAAAAAAAAAAAAAAAAAAAAAAAAAAAAAAAAAAAAAAAAAAAAAAAAAAAAAAAAAAAAAAAAAAAAAAAAAAAAAAAAAAAAAAAAAAAAAAAAAAAAAAAAAAAAAAAAAAAAAAAAAAAAAAAAAAAAAAAAAAAAAAAAAAAAAAAAAAAAAAAAAAAAAAAAAAAAAAAAAAAAAAAAAAAAAAAAAAAAAAAAAAAAAAAAAAAAAAAAAAAAAAAAAAAAAAAAAAAAAAAAAAAAAAAAAAAAAAAAAAAAAAAAAAAAAAAAAAAAAAAAAAAAAAAAAAAAAAAAAAAAAAAAAAAAAAAAAAAAAAAAAAAAAAAAAAAAAAAAAAAAAAAAAAAAAAAAAAAAAAAAAAAAAAAAAAAAAAAAAAAAAAAAAAAAAAAAAAAAAAAAAAAAAAAAAAAAAAAAAAAAAAAAAAAAAAAAAAAAAAAAAAAAAAAAAAAAAAAAAAAAAAAAAAAAAAAAAAAAAAAAAAAAAAAAAAAAAAAAAAAAAAAAAAAAAAAAAAAAAAAAAAAAAAAAAAAAAAAAAAAAAAAAAAAAAAAAAAAAAAAAAAAAAAAAAAAAAAAAAAAAAAAAAAAAAAAAAAAAAAAAAAAAAAAAAAAAAAAAAAAAAAAAAAAAAAAAAAAAAAAAAAAAAAAAAAAAAAAAAAAAAAAAAAAAAAAAAAAAAAAAAAAAAAAAAAAAAAAAAAAAAAAAAAAAAAAAAAAAAAAAAAAAAAAAAAAAAAAAAAAAAAAAAAAAAAAAAAAAAAAAAAAAAAAAAAAAAAAAAAAAAAAAAAAAAAAAAAAAAAAAAAAAAAAAAAAAAAAAAAAAAAAAAAAAAAAAAAAAAAAAAAAAAAAAAAAAAAAAAAAAAAAAAAAAAAAAAAAAAAAAAAAAAAAAAAAAAAAAAAAAAAAAAAAAAAAAAAAAAAAAAAAAAAAAAAAAAAAAAAAAAAAAAAAAAAAAAAAAAAAAAAAAAAAAAAAAAAAAAAAAAAAAAAAAAAAAAAAAAAAAAAAAAAAAAAAAAAAAAAAAAAAAAAAAAAAAAAAAAAAAAAAAAAAAAAAAAAAAAAAAAAAAAAAAAAAAAAAAAAAAAAAAAAAAAAAAAAAAAAAAAAAAAAAAAAAAAAAAAAAAAAAAAAAAAAAAAAAAAAAAAAAAAAAAAAAAAAAAAAAAAAAAAAAAAAAAAAAAAAAAAAAAAAAAAAAAAAAAAAAAAAAAAAAAAAAAAAAAAAAAAAAAAAAAAAAAAAAAAAAAAAAAAAAAAAAAAAAAAAAAAAAAAAAAAAAAAAAAAAAAAAAAAAAAAAAAAAAAAAAAAAAAAAAAAAAAAAA==\" type=\"audio/wav\" />\n",
       "                    Your browser does not support the audio element.\n",
       "                </audio>\n",
       "              "
      ],
      "text/plain": [
       "<IPython.lib.display.Audio object>"
      ]
     },
     "metadata": {},
     "output_type": "display_data"
    },
    {
     "data": {
      "image/png": "[encoded data removed]",
      "text/plain": [
       "<Figure size 432x288 with 1 Axes>"
      ]
     },
     "metadata": {
      "needs_background": "light"
     },
     "output_type": "display_data"
    }
   ],
   "source": [
    "plt.plot(sig)\n",
    "plt.plot(output)\n",
    "ipd.display(ipd.Audio(output, rate=fs))\n",
    "\n"
   ]
  },
  {
   "cell_type": "code",
   "execution_count": 286,
   "metadata": {},
   "outputs": [
    {
     "name": "stdout",
     "output_type": "stream",
     "text": [
      "[0 1 2 3]\n",
      "[[ 0.5  0.5  0.5  0.5]\n",
      " [ 0.5 -0.5  0.5 -0.5]\n",
      " [ 0.5  0.5 -0.5 -0.5]\n",
      " [ 0.5 -0.5 -0.5  0.5]]\n",
      "3.0\n",
      "[ 3. -1. -2.  0.]\n"
     ]
    }
   ],
   "source": [
    "y = np.arange(4)\n",
    "print(y)\n",
    "\n",
    "print(Had)\n",
    "\n",
    "print(np.sum(y*Had[0]))\n",
    "\n",
    "print(np.matmul(y, Had))"
   ]
  }
 ],
 "metadata": {
  "interpreter": {
   "hash": "d44181d5496a312659243d14982d4a06b57e90d4f3d181cb7761c6eb419050d1"
  },
  "kernelspec": {
   "display_name": "Python 3",
   "language": "python",
   "name": "python3"
  },
  "language_info": {
   "codemirror_mode": {
    "name": "ipython",
    "version": 3
   },
   "file_extension": ".py",
   "mimetype": "text/x-python",
   "name": "python",
   "nbconvert_exporter": "python",
   "pygments_lexer": "ipython3",
   "version": "3.8.8"
  }
 },
 "nbformat": 4,
 "nbformat_minor": 2
}
