{
 "metadata": {
  "language_info": {
   "codemirror_mode": {
    "name": "ipython",
    "version": 3
   },
   "file_extension": ".py",
   "mimetype": "text/x-python",
   "name": "python",
   "nbconvert_exporter": "python",
   "pygments_lexer": "ipython3",
   "version": 3
  },
  "orig_nbformat": 4
 },
 "nbformat": 4,
 "nbformat_minor": 2,
 "cells": [
  {
   "source": [
    "# FDN reverberator - SSSP Project\n",
    "\n",
    "Students: \n",
    "\n",
    "*   Federico Maver ( ID: 10565151, MATR: 952840 )\n",
    "*   Filippo Gualtieri ( ID: , MATR: 953546 )"
   ],
   "cell_type": "markdown",
   "metadata": {}
  }
 ]
}