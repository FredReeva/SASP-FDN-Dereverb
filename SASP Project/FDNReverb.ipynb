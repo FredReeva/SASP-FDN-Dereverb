{
 "cells": [
  {
   "cell_type": "markdown",
   "source": [
    "# FDN Reverberator - DAAP Project\n",
    "\n",
    "Students: \n",
    "\n",
    "*   Federico Maver ( ID: 10565151, MATR: 952840 )\n",
    "*   Filippo Gualtieri ( ID: 10557065, MATR: 953546 )"
   ],
   "metadata": {}
  },
  {
   "cell_type": "code",
   "execution_count": 2,
   "source": [
    "import numpy as np\r\n",
    "from tqdm import tqdm\r\n",
    "import matplotlib.pyplot as plt\r\n",
    "import librosa, librosa.display\r\n",
    "import scipy as sp\r\n",
    "import IPython.display as ipd"
   ],
   "outputs": [],
   "metadata": {}
  },
  {
   "cell_type": "code",
   "execution_count": null,
   "source": [
    "ipd.Image(filename = \"images/FDNScheme.png\")"
   ],
   "outputs": [],
   "metadata": {}
  },
  {
   "cell_type": "markdown",
   "source": [
    "## Params"
   ],
   "metadata": {}
  },
  {
   "cell_type": "code",
   "execution_count": null,
   "source": [
    "fs = 22050\r\n",
    "N = 4\r\n",
    "g = np.ones(N) # cambia come vuoi\r\n",
    "\r\n",
    "t60 = 1 # reverberation time\r\n",
    "# TODO: reverberation time should be function of frequency! from 0 to fs/2\r\n",
    "K = 7\r\n",
    "T=127\r\n",
    "t60 = np.repeat(1.5, K) #! constant, need to create a graphic 'eq' to select t60\r\n",
    "t60 = [1, 0.9, 1, 0.5, 0.4, 0.2, 0.1]\r\n",
    "freqs = np.array([0, fs/(2*6), 2*fs/(2*6), 3*fs/(2*6), 4*fs/(2*6), 5*fs/(2*6), fs/2])\r\n",
    "print(t60) \r\n",
    "\r\n",
    "# Min delay lenght\r\n",
    "# TODO: create slider to select length (starting from min)\r\n",
    "M_min = int(np.ceil(0.15*np.max(t60)*fs))\r\n",
    "print(M_min)"
   ],
   "outputs": [],
   "metadata": {}
  },
  {
   "cell_type": "code",
   "execution_count": null,
   "source": [
    "primeN = []\r\n",
    "\r\n",
    "for num in range(2,101):\r\n",
    "    prime = True\r\n",
    "    for i in range(2,num):\r\n",
    "        if (num%i==0):\r\n",
    "            prime = False\r\n",
    "    if prime:\r\n",
    "       primeN.append(num)\r\n",
    "\r\n",
    "M = []\r\n",
    "for i in primeN:\r\n",
    "    m = np.floor(0.5+np.log(M_min)/np.log(i))\r\n",
    "    if i**m>M_min:\r\n",
    "        M.append(int(i**m))\r\n",
    "\r\n",
    "M = np.sort(M)\r\n",
    "\r\n",
    "M = M[:N]\r\n",
    "\r\n",
    "print(M)\r\n",
    "# TODO: select numbers according to min desired length"
   ],
   "outputs": [],
   "metadata": {}
  },
  {
   "cell_type": "markdown",
   "source": [
    "## Lossless Feedback Matrix"
   ],
   "metadata": {}
  },
  {
   "cell_type": "markdown",
   "source": [
    "Hadamard Matrix"
   ],
   "metadata": {}
  },
  {
   "cell_type": "code",
   "execution_count": null,
   "source": [
    "if((N & (N-1) == 0) and N != 0):\r\n",
    "    Had = 1/np.sqrt(N)*sp.linalg.hadamard(N)\r\n",
    "    print(Had)\r\n"
   ],
   "outputs": [],
   "metadata": {}
  },
  {
   "cell_type": "markdown",
   "source": [
    "Householder Matrix"
   ],
   "metadata": {}
  },
  {
   "cell_type": "code",
   "execution_count": null,
   "source": [
    "u = np.ones(N)\r\n",
    "Hous = np.identity(N)-2/N*u*u.T\r\n",
    "print(Hous)"
   ],
   "outputs": [],
   "metadata": {}
  },
  {
   "cell_type": "code",
   "execution_count": 8,
   "source": [
    "# Case 3: Multiband filter design (preferred)\r\n",
    "def multibandEqualizer(M_i, T, t60, freqs, fs):\r\n",
    "    #for M_i in M:\r\n",
    "\r\n",
    "        G_i = []\r\n",
    "        # evaluate correct gains (one per band)\r\n",
    "        for t60_f in t60:\r\n",
    "            G_i.append(10**((-3*M_i)/(t60_f*fs))) \r\n",
    "\r\n",
    "        \r\n",
    "        #print(G_i)\r\n",
    "\r\n",
    "        taps = sp.signal.firwin2(numtaps=T, freq=freqs, gain=G_i, fs=fs)\r\n",
    "\r\n",
    "        # w, h = sp.signal.freqz(taps, fs=fs)\r\n",
    "\r\n",
    "        #plotFilter(w, h, M_i)\r\n",
    "\r\n",
    "        return taps"
   ],
   "outputs": [],
   "metadata": {}
  },
  {
   "cell_type": "code",
   "execution_count": null,
   "source": [
    "# #Circuit\r\n",
    "# #Parameter initialization\r\n",
    "# #U = [1, 0, 0, 0]\r\n",
    "\r\n",
    "# U=np.append(np.sin(2*np.pi*440*np.arange(0,0.1,1/fs)),np.zeros(15000)) #sp.signal.unit_impulse(22050)\r\n",
    "# B = [1,1,1,1]\r\n",
    "# C = [1,1,1,1]\r\n",
    "# G = [1,1,1,1]\r\n",
    "# A = Hous\r\n",
    "# '''                                          1 2 3 4\r\n",
    "# #Delay lines data structure initialization   _ _ _ _  list of vectors\r\n",
    "#                                              | | | |\r\n",
    "#                                              | | | |\r\n",
    "# '''\r\n",
    "# delay_lines=[]\r\n",
    "\r\n",
    "# for i in range(N):\r\n",
    "#     delay_lines.append(np.zeros(M[i]))\r\n",
    "\r\n",
    "# Output=[]\r\n",
    "# for u in U: # For every sample of the input\r\n",
    "#     delay_outputs = [] #Clear the list of delay outputs (N,)\r\n",
    "#     x = []\r\n",
    "#     for i in range(N): # For every circuit calculate output of delay lines and shift\r\n",
    "#         delay_outputs.append(delay_lines[i][-1])\r\n",
    "#         delay_lines[i][1:M[i]] = delay_lines[i][0:M[i]-1]\r\n",
    "#         taps = multibandEqualizer(M[i], T, freqs, fs)\r\n",
    "#         x.append(np.sum(np.multiply(taps, delay_lines[i][-T:])))\r\n",
    "        \r\n",
    "\r\n",
    "#     delay_outputs_array = np.asanyarray(x)\r\n",
    "#     delay_output_mixed = np.dot(A,delay_outputs_array) # calculate feedback with the selected mixing matrix\r\n",
    "\r\n",
    "#     Output.append(np.sum(np.multiply(delay_outputs_array, C)))# Calculate Output to E(z)\r\n",
    "\r\n",
    "#     for i in range(N):\r\n",
    "#         delay_lines[i][0] = B[i]*u + G[i] * delay_output_mixed[i] # insert the calculated input+feedback value into the first position of each delay line\r\n",
    "\r\n",
    "# plt.figure()\r\n",
    "# plt.plot(U)\r\n",
    "# plt.plot(Output)\r\n",
    "\r\n",
    "# print(\"Original\")\r\n",
    "# ipd.Audio(U, rate=fs)"
   ],
   "outputs": [],
   "metadata": {
    "scrolled": false
   }
  },
  {
   "cell_type": "code",
   "execution_count": null,
   "source": [
    "delay_lines[1][-T:].shape"
   ],
   "outputs": [],
   "metadata": {}
  },
  {
   "cell_type": "code",
   "execution_count": null,
   "source": [
    "print(\"Filtered\")\r\n",
    "ipd.Audio(Output, rate=fs)\r\n",
    "\r\n"
   ],
   "outputs": [],
   "metadata": {}
  },
  {
   "cell_type": "markdown",
   "source": [
    "Once we have delayed the splitted signal, apply a filter (to each delay line). This filter is used to determine the $t_{60}$ of the reverb in each frequency band."
   ],
   "metadata": {}
  },
  {
   "cell_type": "code",
   "execution_count": null,
   "source": [
    "def plotFilter(w, h, M_i):\r\n",
    "        fig, ax1 = plt.subplots()\r\n",
    "        ax1.set_title('Filter applied to delay line with M={}'.format(M_i))\r\n",
    "        ax1.plot(w, 20 * np.log10(abs(h)), 'b')\r\n",
    "        ax1.set_ylabel('Amplitude [dB]', color='b')\r\n",
    "        ax1.set_xlabel('Frequency [rad/sample]')\r\n",
    "        # ax2 = ax1.twinx()\r\n",
    "        # angles = np.unwrap(np.angle(h))\r\n",
    "        # ax2.plot(w, angles, 'g')\r\n",
    "        # ax2.set_ylabel('Angle (radians)', color='g')\r\n",
    "        # ax2.grid()\r\n",
    "        # ax2.axis('tight')\r\n",
    "        plt.show()"
   ],
   "outputs": [],
   "metadata": {}
  },
  {
   "cell_type": "code",
   "execution_count": null,
   "source": [
    "# Case 1: Simple 1st order filter\r\n",
    "\r\n",
    "def filter1st(x, M, t60, fs):\r\n",
    "    for M_i in M:\r\n",
    "        R_M = []\r\n",
    "        # R_M = 1-(6.91*M_i/t60*fs)\r\n",
    "        for t60_f in t60:\r\n",
    "            R_M.append(10**((-3*M_i)/(t60_f*fs))) \r\n",
    "            \r\n",
    "        print(R_M)\r\n",
    "\r\n",
    "        # pole\r\n",
    "        p_i = (R_M[0]-R_M[-1])/(R_M[0]+R_M[-1])\r\n",
    "\r\n",
    "        # gain\r\n",
    "        g_i = 2*(R_M[0]*R_M[-1])/(R_M[0]+R_M[-1])\r\n",
    "\r\n",
    "        print(g_i, p_i)\r\n",
    "\r\n",
    "        b = [0, g_i]\r\n",
    "        a = [-p_i, 1]\r\n",
    "\r\n",
    "        w, h = sp.signal.freqz(b,a, fs=fs)\r\n",
    "\r\n",
    "        plotFilter(w, h, M_i)\r\n"
   ],
   "outputs": [],
   "metadata": {}
  },
  {
   "cell_type": "code",
   "execution_count": null,
   "source": [
    "# Case 2: Orthogonalized 1st order delay filter\r\n",
    "def ortFilter1st(x, M, t60, fs):\r\n",
    "    for M_i in M:\r\n",
    "\r\n",
    "        # gain\r\n",
    "        g_i = 10**((-3*M_i)/(t60[0]*fs))\r\n",
    "\r\n",
    "        # pole and zero\r\n",
    "        p_i = np.log(10)/4 * np.log10(g_i) * (1-(1/(t60[-1]/t60[0])**2))\r\n",
    "\r\n",
    "        print(g_i, p_i)\r\n",
    "\r\n",
    "        b = [0, g_i*(1-p_i)]\r\n",
    "        a = [-p_i, 1]\r\n",
    "\r\n",
    "        w, h = sp.signal.freqz(b,a, fs=fs)\r\n",
    "\r\n",
    "        plotFilter(w, h, M_i)\r\n"
   ],
   "outputs": [],
   "metadata": {}
  },
  {
   "cell_type": "markdown",
   "source": [
    "Spectral coloration equalizer"
   ],
   "metadata": {}
  },
  {
   "cell_type": "code",
   "execution_count": null,
   "source": [
    "# coefficient of the filter:\r\n",
    "def spectralEqualizer(x, t60, fs):\r\n",
    "    b_coeff = (1-(t60[-1]/t60[0]))/(1+(t60[-1]/t60[0]))\r\n",
    "\r\n",
    "    b = [-b_coeff, 1]\r\n",
    "    a = [0, 1-b_coeff]\r\n",
    "\r\n",
    "    w, h = sp.signal.freqz(b,a, fs=fs)\r\n",
    "\r\n",
    "    fig, ax1 = plt.subplots()\r\n",
    "    ax1.set_title('Spectral Coloration Equalizer')\r\n",
    "    ax1.plot(w, 20 * np.log10(abs(h)), 'b')\r\n",
    "    ax1.set_ylabel('Amplitude [dB]', color='b')\r\n",
    "    ax1.set_xlabel('Frequency [rad/sample]')\r\n",
    "    # ax2 = ax1.twinx()\r\n",
    "    # angles = np.unwrap(np.angle(h))\r\n",
    "    # ax2.plot(w, angles, 'g')\r\n",
    "    # ax2.set_ylabel('Angle (radians)', color='g')\r\n",
    "    # ax2.grid()\r\n",
    "    # ax2.axis('tight')\r\n",
    "    plt.show()"
   ],
   "outputs": [],
   "metadata": {}
  },
  {
   "cell_type": "markdown",
   "source": [
    "# Main:"
   ],
   "metadata": {}
  },
  {
   "cell_type": "code",
   "execution_count": 9,
   "source": [
    "# test signal\r\n",
    "\r\n",
    "fs = 22050\r\n",
    "signal = np.append(np.sin(2*np.pi*440*np.arange(0,0.1,1/fs)),np.zeros(15000)) #sp.signal.unit_impulse(22050)"
   ],
   "outputs": [],
   "metadata": {}
  },
  {
   "cell_type": "code",
   "execution_count": 10,
   "source": [
    "# parameters\r\n",
    "\r\n",
    "\r\n",
    "N = 4 # number of parallel delay lines\r\n",
    "\r\n",
    "# weight coefficients (default to 1)\r\n",
    "g = np.ones(N)\r\n",
    "b = np.ones(N)\r\n",
    "c = np.ones(N)\r\n",
    "\r\n",
    "# reverberation time should be function of frequency, from 0 to fs/2\r\n",
    "T=9 # filter taps\r\n",
    "t60 = [1, 0.9, 1, 0.5, 0.4, 0.2, 0.1]\r\n",
    "freqs = np.array([0, fs/(2*6), 2*fs/(2*6), 3*fs/(2*6), 4*fs/(2*6), 5*fs/(2*6), fs/2])\r\n",
    "print('Frequency bands {0} & relative reverberation times {1}'.format(freqs, t60)) \r\n",
    "\r\n",
    "# Delay lenghts\r\n",
    "# TODO: create slider to select length (starting from min)\r\n",
    "M_min = int(np.ceil(0.15*np.max(t60)*fs))\r\n",
    "\r\n",
    "primeN = []\r\n",
    "\r\n",
    "# generate some prime numbers...\r\n",
    "for num in range(2,101):\r\n",
    "    prime = True\r\n",
    "    for i in range(2,num):\r\n",
    "        if (num%i==0):\r\n",
    "            prime = False\r\n",
    "    if prime:\r\n",
    "       primeN.append(num)\r\n",
    "\r\n",
    "# compute M starting from (different) prime numbers\r\n",
    "M = []\r\n",
    "for i in primeN:\r\n",
    "    m = np.floor(0.5+np.log(M_min)/np.log(i))\r\n",
    "    if i**m>M_min:\r\n",
    "        M.append(int(i**m))\r\n",
    "\r\n",
    "M = np.sort(M)\r\n",
    "\r\n",
    "M = M[:N]\r\n",
    "\r\n",
    "print('Selected delay lengths:',M)\r\n",
    "# TODO: select numbers according to min desired length\r\n"
   ],
   "outputs": [
    {
     "output_type": "stream",
     "name": "stdout",
     "text": [
      "Frequency bands [    0.   1837.5  3675.   5512.5  7350.   9187.5 11025. ] & relative reverberation times [1, 0.9, 1, 0.5, 0.4, 0.2, 0.1]\n",
      "Selected delay lengths: [3481 3721 4096 4489]\n"
     ]
    }
   ],
   "metadata": {}
  },
  {
   "cell_type": "code",
   "execution_count": 11,
   "source": [
    "# feedback matrices\r\n",
    "\r\n",
    "# hadamard\r\n",
    "if((N & (N-1) == 0) and N != 0):\r\n",
    "    Had = 1/np.sqrt(N)*sp.linalg.hadamard(N)\r\n",
    "\r\n",
    "#householder\r\n",
    "u = np.ones(N)\r\n",
    "Hous = np.identity(N)-2/N*u*u.T"
   ],
   "outputs": [],
   "metadata": {}
  },
  {
   "cell_type": "code",
   "execution_count": 17,
   "source": [
    "# delay implementation with circular buffer\r\n",
    "# ! contrario, va fatto per ogni delay line in //\r\n",
    "\r\n",
    "\r\n",
    "signal = np.append(signal, np.zeros(5*np.max(M)))\r\n",
    "out = np.zeros((N, np.max(M)+signal.size))\r\n",
    "fb = 0.2\r\n",
    "\r\n",
    "bufferSize = np.max(M) + 128\r\n",
    "\r\n",
    "for i in range(M.size):\r\n",
    "\r\n",
    "    taps = multibandEqualizer(M[i], T, t60, freqs, fs)\r\n",
    "\r\n",
    "    y = []\r\n",
    "    output = []\r\n",
    "\r\n",
    "    writeIndex = M[i]\r\n",
    "    readIndex = bufferSize-M[i]\r\n",
    "    filterIndex = readIndex\r\n",
    "    buffer = np.zeros(bufferSize)\r\n",
    "    \r\n",
    "\r\n",
    "    for sample in signal:\r\n",
    "\r\n",
    "        y = buffer[readIndex]\r\n",
    "        output = np.append(output, y)\r\n",
    "\r\n",
    "        # filter\r\n",
    "        filterIndex = readIndex\r\n",
    "        filtered = y\r\n",
    "        for tap in taps:\r\n",
    "\r\n",
    "            filtered += buffer[filterIndex]*tap\r\n",
    "            filterIndex = filterIndex -1\r\n",
    "            if filterIndex<0:\r\n",
    "                filterIndex = bufferSize-1\r\n",
    "            \r\n",
    "\r\n",
    "        x = sample + fb*filtered\r\n",
    "\r\n",
    "        buffer[writeIndex] = x\r\n",
    "\r\n",
    "        readIndex = readIndex + 1\r\n",
    "        if readIndex>=bufferSize:\r\n",
    "            readIndex = 0\r\n",
    "\r\n",
    "        writeIndex = writeIndex + 1\r\n",
    "        if writeIndex>=bufferSize:\r\n",
    "            writeIndex = 0\r\n",
    "\r\n",
    "        \r\n",
    "    \r\n",
    "    out[i][:output.size] = output\r\n",
    "    \r\n",
    "\r\n",
    "\r\n",
    "# plt.plot(out[:])\r\n",
    "# plt.plot(signal)\r\n",
    "\r\n",
    "\r\n",
    "\r\n",
    "# initialize: input signal u, feedback = 0\r\n",
    "\r\n",
    "# feedback loop (for each sample):\r\n",
    "    # here we have x as sum of input and feedback\r\n",
    "\r\n",
    "    # apply the delays to x\r\n",
    "\r\n",
    "    # apply the filters to x\r\n",
    "\r\n",
    "    # take the result and apply the feedback matrix, loop back\r\n",
    "\r\n",
    "    # take x and write the result into a buffer \r\n",
    "\r\n",
    "# take the output from the buffer and apply the equalization filter\r\n",
    "\r\n",
    "\r\n",
    "# blend the result with original signal"
   ],
   "outputs": [],
   "metadata": {}
  },
  {
   "cell_type": "code",
   "execution_count": null,
   "source": [
    "p = np.arange(10)\r\n",
    "print(p)\r\n",
    "print(p[6:-4:-1])"
   ],
   "outputs": [],
   "metadata": {}
  }
 ],
 "metadata": {
  "interpreter": {
   "hash": "d44181d5496a312659243d14982d4a06b57e90d4f3d181cb7761c6eb419050d1"
  },
  "kernelspec": {
   "name": "python3",
   "display_name": "Python 3.8.5 64-bit ('SASP': conda)"
  },
  "language_info": {
   "codemirror_mode": {
    "name": "ipython",
    "version": 3
   },
   "file_extension": ".py",
   "mimetype": "text/x-python",
   "name": "python",
   "nbconvert_exporter": "python",
   "pygments_lexer": "ipython3",
   "version": "3.8.5"
  }
 },
 "nbformat": 4,
 "nbformat_minor": 2
}